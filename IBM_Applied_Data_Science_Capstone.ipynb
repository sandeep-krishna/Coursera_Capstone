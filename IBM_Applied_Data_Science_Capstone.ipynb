{
  "nbformat": 4,
  "nbformat_minor": 0,
  "metadata": {
    "colab": {
      "name": "IBM Applied Data Science Capstone",
      "provenance": []
    },
    "kernelspec": {
      "name": "python3",
      "display_name": "Python 3"
    }
  },
  "cells": [
    {
      "cell_type": "markdown",
      "metadata": {
        "id": "62t76E9b0L5X"
      },
      "source": [
 
        "#IBM Applied Data Science Capstone\n",
        "##Car Accident Severity Prediction\n",
      ]
    },
    {
      "cell_type": "code",
      "metadata": {
        "id": "mkB-jaPu3c8Y"
      },
      "source": [
        "#Importing libraries\n",
        "import pandas as pd\n",
        "import numpy as np\n",
        "import matplotlib.pyplot as plt"
      ],
      "execution_count": 1,
      "outputs": []
    },
    {
      "cell_type": "markdown",
      "metadata": {
        "id": "XjS3aKnS0_9e"
      },
      "source": [
        "## About the dataset\n",
        "The data for this project is taken from an open source website - <br>\n",
        "(https://data-seattlecitygis.opendata.arcgis.com/datasets/5b5c745e0f1f48e7a53acec63a0022ab_0/data)\n",
        "\n",
        "The data consists of 39 independent variables and 221525 rows. The dependent variable, “SEVERITYCODE”, contains codes that correspond to different levels of severity caused by an accident.\n",
        "\n",
        "Severity codes are as follows:\n",
        "\n",
        "0 : Unknown<br>\n",
        "1 : Property Damage Only Collision<br>\n",
        "2 : Injury Collision<br>\n",
        "2b : Serious Injury Collision<br>\n",
        "3 : Fatality Collision<br>\n",
        "Furthermore, because of the existence of null values in some records, the data needs to be preprocessed before any further processing\n"
      ]
    },
    {
      "cell_type": "code",
      "metadata": {
        "id": "RNVt-gzO3u55",
        "outputId": "2727a344-a006-492a-925e-2a23fb28c376",
        "colab": {
          "base_uri": "https://localhost:8080/",
          "height": 615
        }
      },
      "source": [
        "path = 'https://opendata.arcgis.com/datasets/5b5c745e0f1f48e7a53acec63a0022ab_0.csv'\n",
        "df = pd.read_csv(path)\n",
        "df.head()"
      ],
      "execution_count": 2,
      "outputs": [
        {
          "output_type": "execute_result",
          "data": {
            "text/html": [
              "<div>\n",
              "<style scoped>\n",
              "    .dataframe tbody tr th:only-of-type {\n",
              "        vertical-align: middle;\n",
              "    }\n",
              "\n",
              "    .dataframe tbody tr th {\n",
              "        vertical-align: top;\n",
              "    }\n",
              "\n",
              "    .dataframe thead th {\n",
              "        text-align: right;\n",
              "    }\n",
              "</style>\n",
              "<table border=\"1\" class=\"dataframe\">\n",
              "  <thead>\n",
              "    <tr style=\"text-align: right;\">\n",
              "      <th></th>\n",
              "      <th>X</th>\n",
              "      <th>Y</th>\n",
              "      <th>OBJECTID</th>\n",
              "      <th>INCKEY</th>\n",
              "      <th>COLDETKEY</th>\n",
              "      <th>REPORTNO</th>\n",
              "      <th>STATUS</th>\n",
              "      <th>ADDRTYPE</th>\n",
              "      <th>INTKEY</th>\n",
              "      <th>LOCATION</th>\n",
              "      <th>EXCEPTRSNCODE</th>\n",
              "      <th>EXCEPTRSNDESC</th>\n",
              "      <th>SEVERITYCODE</th>\n",
              "      <th>SEVERITYDESC</th>\n",
              "      <th>COLLISIONTYPE</th>\n",
              "      <th>PERSONCOUNT</th>\n",
              "      <th>PEDCOUNT</th>\n",
              "      <th>PEDCYLCOUNT</th>\n",
              "      <th>VEHCOUNT</th>\n",
              "      <th>INJURIES</th>\n",
              "      <th>SERIOUSINJURIES</th>\n",
              "      <th>FATALITIES</th>\n",
              "      <th>INCDATE</th>\n",
              "      <th>INCDTTM</th>\n",
              "      <th>JUNCTIONTYPE</th>\n",
              "      <th>SDOT_COLCODE</th>\n",
              "      <th>SDOT_COLDESC</th>\n",
              "      <th>INATTENTIONIND</th>\n",
              "      <th>UNDERINFL</th>\n",
              "      <th>WEATHER</th>\n",
              "      <th>ROADCOND</th>\n",
              "      <th>LIGHTCOND</th>\n",
              "      <th>PEDROWNOTGRNT</th>\n",
              "      <th>SDOTCOLNUM</th>\n",
              "      <th>SPEEDING</th>\n",
              "      <th>ST_COLCODE</th>\n",
              "      <th>ST_COLDESC</th>\n",
              "      <th>SEGLANEKEY</th>\n",
              "      <th>CROSSWALKKEY</th>\n",
              "      <th>HITPARKEDCAR</th>\n",
              "    </tr>\n",
              "  </thead>\n",
              "  <tbody>\n",
              "    <tr>\n",
              "      <th>0</th>\n",
              "      <td>-122.356511</td>\n",
              "      <td>47.517361</td>\n",
              "      <td>1</td>\n",
              "      <td>327920</td>\n",
              "      <td>329420</td>\n",
              "      <td>3856094</td>\n",
              "      <td>Matched</td>\n",
              "      <td>Intersection</td>\n",
              "      <td>34911.0</td>\n",
              "      <td>17TH AVE SW AND SW ROXBURY ST</td>\n",
              "      <td></td>\n",
              "      <td>NaN</td>\n",
              "      <td>1</td>\n",
              "      <td>Property Damage Only Collision</td>\n",
              "      <td>Angles</td>\n",
              "      <td>2</td>\n",
              "      <td>0</td>\n",
              "      <td>0</td>\n",
              "      <td>2</td>\n",
              "      <td>0</td>\n",
              "      <td>0</td>\n",
              "      <td>0</td>\n",
              "      <td>2020/01/19 00:00:00+00</td>\n",
              "      <td>1/19/2020 9:01:00 AM</td>\n",
              "      <td>At Intersection (intersection related)</td>\n",
              "      <td>11.0</td>\n",
              "      <td>MOTOR VEHICLE STRUCK MOTOR VEHICLE, FRONT END ...</td>\n",
              "      <td>NaN</td>\n",
              "      <td>N</td>\n",
              "      <td>Clear</td>\n",
              "      <td>Dry</td>\n",
              "      <td>Daylight</td>\n",
              "      <td>NaN</td>\n",
              "      <td>NaN</td>\n",
              "      <td>NaN</td>\n",
              "      <td>10</td>\n",
              "      <td>Entering at angle</td>\n",
              "      <td>0</td>\n",
              "      <td>0</td>\n",
              "      <td>N</td>\n",
              "    </tr>\n",
              "    <tr>\n",
              "      <th>1</th>\n",
              "      <td>-122.361405</td>\n",
              "      <td>47.702064</td>\n",
              "      <td>2</td>\n",
              "      <td>46200</td>\n",
              "      <td>46200</td>\n",
              "      <td>1791736</td>\n",
              "      <td>Matched</td>\n",
              "      <td>Block</td>\n",
              "      <td>NaN</td>\n",
              "      <td>HOLMAN RD NW BETWEEN 4TH AVE NW AND 3RD AVE NW</td>\n",
              "      <td>NaN</td>\n",
              "      <td>NaN</td>\n",
              "      <td>1</td>\n",
              "      <td>Property Damage Only Collision</td>\n",
              "      <td>Rear Ended</td>\n",
              "      <td>2</td>\n",
              "      <td>0</td>\n",
              "      <td>0</td>\n",
              "      <td>2</td>\n",
              "      <td>0</td>\n",
              "      <td>0</td>\n",
              "      <td>0</td>\n",
              "      <td>2005/04/11 00:00:00+00</td>\n",
              "      <td>4/11/2005 6:31:00 PM</td>\n",
              "      <td>Mid-Block (not related to intersection)</td>\n",
              "      <td>14.0</td>\n",
              "      <td>MOTOR VEHICLE STRUCK MOTOR VEHICLE, REAR END</td>\n",
              "      <td>Y</td>\n",
              "      <td>0</td>\n",
              "      <td>Raining</td>\n",
              "      <td>Wet</td>\n",
              "      <td>Dusk</td>\n",
              "      <td>NaN</td>\n",
              "      <td>5101020.0</td>\n",
              "      <td>NaN</td>\n",
              "      <td>13</td>\n",
              "      <td>From same direction - both going straight - bo...</td>\n",
              "      <td>0</td>\n",
              "      <td>0</td>\n",
              "      <td>N</td>\n",
              "    </tr>\n",
              "    <tr>\n",
              "      <th>2</th>\n",
              "      <td>-122.317414</td>\n",
              "      <td>47.664028</td>\n",
              "      <td>3</td>\n",
              "      <td>1212</td>\n",
              "      <td>1212</td>\n",
              "      <td>3507861</td>\n",
              "      <td>Matched</td>\n",
              "      <td>Block</td>\n",
              "      <td>NaN</td>\n",
              "      <td>ROOSEVELT WAY NE BETWEEN NE 47TH ST AND NE 50T...</td>\n",
              "      <td></td>\n",
              "      <td>NaN</td>\n",
              "      <td>2</td>\n",
              "      <td>Injury Collision</td>\n",
              "      <td>Head On</td>\n",
              "      <td>2</td>\n",
              "      <td>0</td>\n",
              "      <td>0</td>\n",
              "      <td>2</td>\n",
              "      <td>1</td>\n",
              "      <td>0</td>\n",
              "      <td>0</td>\n",
              "      <td>2013/03/31 00:00:00+00</td>\n",
              "      <td>3/31/2013 2:09:00 AM</td>\n",
              "      <td>Mid-Block (not related to intersection)</td>\n",
              "      <td>11.0</td>\n",
              "      <td>MOTOR VEHICLE STRUCK MOTOR VEHICLE, FRONT END ...</td>\n",
              "      <td>NaN</td>\n",
              "      <td>N</td>\n",
              "      <td>Clear</td>\n",
              "      <td>Dry</td>\n",
              "      <td>Dark - Street Lights On</td>\n",
              "      <td>NaN</td>\n",
              "      <td>NaN</td>\n",
              "      <td>NaN</td>\n",
              "      <td>30</td>\n",
              "      <td>From opposite direction - all others</td>\n",
              "      <td>0</td>\n",
              "      <td>0</td>\n",
              "      <td>N</td>\n",
              "    </tr>\n",
              "    <tr>\n",
              "      <th>3</th>\n",
              "      <td>-122.318234</td>\n",
              "      <td>47.619927</td>\n",
              "      <td>4</td>\n",
              "      <td>327909</td>\n",
              "      <td>329409</td>\n",
              "      <td>EA03026</td>\n",
              "      <td>Matched</td>\n",
              "      <td>Intersection</td>\n",
              "      <td>29054.0</td>\n",
              "      <td>11TH AVE E AND E JOHN ST</td>\n",
              "      <td></td>\n",
              "      <td>NaN</td>\n",
              "      <td>2</td>\n",
              "      <td>Injury Collision</td>\n",
              "      <td>Pedestrian</td>\n",
              "      <td>3</td>\n",
              "      <td>1</td>\n",
              "      <td>0</td>\n",
              "      <td>1</td>\n",
              "      <td>1</td>\n",
              "      <td>0</td>\n",
              "      <td>0</td>\n",
              "      <td>2020/01/06 00:00:00+00</td>\n",
              "      <td>1/6/2020 5:55:00 PM</td>\n",
              "      <td>At Intersection (intersection related)</td>\n",
              "      <td>24.0</td>\n",
              "      <td>MOTOR VEHCILE STRUCK PEDESTRIAN</td>\n",
              "      <td>NaN</td>\n",
              "      <td>N</td>\n",
              "      <td>Raining</td>\n",
              "      <td>Wet</td>\n",
              "      <td>Dark - Street Lights On</td>\n",
              "      <td>NaN</td>\n",
              "      <td>NaN</td>\n",
              "      <td>NaN</td>\n",
              "      <td>0</td>\n",
              "      <td>Vehicle going straight hits pedestrian</td>\n",
              "      <td>0</td>\n",
              "      <td>0</td>\n",
              "      <td>N</td>\n",
              "    </tr>\n",
              "    <tr>\n",
              "      <th>4</th>\n",
              "      <td>-122.351724</td>\n",
              "      <td>47.560306</td>\n",
              "      <td>5</td>\n",
              "      <td>104900</td>\n",
              "      <td>104900</td>\n",
              "      <td>2671936</td>\n",
              "      <td>Matched</td>\n",
              "      <td>Block</td>\n",
              "      <td>NaN</td>\n",
              "      <td>WEST MARGINAL WAY SW BETWEEN SW ALASKA ST AND ...</td>\n",
              "      <td>NaN</td>\n",
              "      <td>NaN</td>\n",
              "      <td>2</td>\n",
              "      <td>Injury Collision</td>\n",
              "      <td>Other</td>\n",
              "      <td>2</td>\n",
              "      <td>0</td>\n",
              "      <td>0</td>\n",
              "      <td>1</td>\n",
              "      <td>1</td>\n",
              "      <td>0</td>\n",
              "      <td>0</td>\n",
              "      <td>2009/12/25 00:00:00+00</td>\n",
              "      <td>12/25/2009 7:00:00 PM</td>\n",
              "      <td>Mid-Block (not related to intersection)</td>\n",
              "      <td>28.0</td>\n",
              "      <td>MOTOR VEHICLE RAN OFF ROAD - HIT FIXED OBJECT</td>\n",
              "      <td>NaN</td>\n",
              "      <td>0</td>\n",
              "      <td>Clear</td>\n",
              "      <td>Ice</td>\n",
              "      <td>Dark - Street Lights On</td>\n",
              "      <td>NaN</td>\n",
              "      <td>9359012.0</td>\n",
              "      <td>Y</td>\n",
              "      <td>50</td>\n",
              "      <td>Fixed object</td>\n",
              "      <td>0</td>\n",
              "      <td>0</td>\n",
              "      <td>N</td>\n",
              "    </tr>\n",
              "  </tbody>\n",
              "</table>\n",
              "</div>"
            ],
            "text/plain": [
              "            X          Y  OBJECTID  ...  SEGLANEKEY  CROSSWALKKEY HITPARKEDCAR\n",
              "0 -122.356511  47.517361         1  ...           0             0            N\n",
              "1 -122.361405  47.702064         2  ...           0             0            N\n",
              "2 -122.317414  47.664028         3  ...           0             0            N\n",
              "3 -122.318234  47.619927         4  ...           0             0            N\n",
              "4 -122.351724  47.560306         5  ...           0             0            N\n",
              "\n",
              "[5 rows x 40 columns]"
            ]
          },
          "metadata": {
            "tags": []
          },
          "execution_count": 2
        }
      ]
    },
    {
      "cell_type": "markdown",
      "metadata": {
        "id": "_R0dPoaL4DTr"
      },
      "source": [
        "## Data Understanding"
      ]
    },
    {
      "cell_type": "code",
      "metadata": {
        "id": "AAJSh9dL34ES",
        "outputId": "574da21a-4cf2-49fe-c7b3-f0c2013c48d7",
        "colab": {
          "base_uri": "https://localhost:8080/"
        }
      },
      "source": [
        "df.info()"
      ],
      "execution_count": 3,
      "outputs": [
        {
          "output_type": "stream",
          "text": [
            "<class 'pandas.core.frame.DataFrame'>\n",
            "RangeIndex: 221738 entries, 0 to 221737\n",
            "Data columns (total 40 columns):\n",
            " #   Column           Non-Null Count   Dtype  \n",
            "---  ------           --------------   -----  \n",
            " 0   X                214260 non-null  float64\n",
            " 1   Y                214260 non-null  float64\n",
            " 2   OBJECTID         221738 non-null  int64  \n",
            " 3   INCKEY           221738 non-null  int64  \n",
            " 4   COLDETKEY        221738 non-null  int64  \n",
            " 5   REPORTNO         221738 non-null  object \n",
            " 6   STATUS           221738 non-null  object \n",
            " 7   ADDRTYPE         218024 non-null  object \n",
            " 8   INTKEY           72027 non-null   float64\n",
            " 9   LOCATION         217145 non-null  object \n",
            " 10  EXCEPTRSNCODE    101335 non-null  object \n",
            " 11  EXCEPTRSNDESC    11785 non-null   object \n",
            " 12  SEVERITYCODE     221737 non-null  object \n",
            " 13  SEVERITYDESC     221738 non-null  object \n",
            " 14  COLLISIONTYPE    195287 non-null  object \n",
            " 15  PERSONCOUNT      221738 non-null  int64  \n",
            " 16  PEDCOUNT         221738 non-null  int64  \n",
            " 17  PEDCYLCOUNT      221738 non-null  int64  \n",
            " 18  VEHCOUNT         221738 non-null  int64  \n",
            " 19  INJURIES         221738 non-null  int64  \n",
            " 20  SERIOUSINJURIES  221738 non-null  int64  \n",
            " 21  FATALITIES       221738 non-null  int64  \n",
            " 22  INCDATE          221738 non-null  object \n",
            " 23  INCDTTM          221738 non-null  object \n",
            " 24  JUNCTIONTYPE     209759 non-null  object \n",
            " 25  SDOT_COLCODE     221737 non-null  float64\n",
            " 26  SDOT_COLDESC     221737 non-null  object \n",
            " 27  INATTENTIONIND   30188 non-null   object \n",
            " 28  UNDERINFL        195307 non-null  object \n",
            " 29  WEATHER          195097 non-null  object \n",
            " 30  ROADCOND         195178 non-null  object \n",
            " 31  LIGHTCOND        195008 non-null  object \n",
            " 32  PEDROWNOTGRNT    5195 non-null    object \n",
            " 33  SDOTCOLNUM       127205 non-null  float64\n",
            " 34  SPEEDING         9936 non-null    object \n",
            " 35  ST_COLCODE       212325 non-null  object \n",
            " 36  ST_COLDESC       195287 non-null  object \n",
            " 37  SEGLANEKEY       221738 non-null  int64  \n",
            " 38  CROSSWALKKEY     221738 non-null  int64  \n",
            " 39  HITPARKEDCAR     221738 non-null  object \n",
            "dtypes: float64(5), int64(12), object(23)\n",
            "memory usage: 67.7+ MB\n"
          ],
          "name": "stdout"
        }
      ]
    },
    {
      "cell_type": "code",
      "metadata": {
        "id": "FFqKRB6r4Uv8",
        "outputId": "33739e50-2270-4a24-e433-c50ca2984044",
        "colab": {
          "base_uri": "https://localhost:8080/"
        }
      },
      "source": [
        "df['SEVERITYCODE'].value_counts()"
      ],
      "execution_count": 4,
      "outputs": [
        {
          "output_type": "execute_result",
          "data": {
            "text/plain": [
              "1     137776\n",
              "2      58842\n",
              "0      21656\n",
              "2b      3111\n",
              "3        352\n",
              "Name: SEVERITYCODE, dtype: int64"
            ]
          },
          "metadata": {
            "tags": []
          },
          "execution_count": 4
        }
      ]
    },
    {
      "cell_type": "code",
      "metadata": {
        "id": "jFWNKt9-4ajn",
        "outputId": "29edda82-49ff-4462-ebd0-00178b9a24e5",
        "colab": {
          "base_uri": "https://localhost:8080/"
        }
      },
      "source": [
        "df['SEVERITYDESC'].value_counts()"
      ],
      "execution_count": 5,
      "outputs": [
        {
          "output_type": "execute_result",
          "data": {
            "text/plain": [
              "Property Damage Only Collision    137776\n",
              "Injury Collision                   58842\n",
              "Unknown                            21657\n",
              "Serious Injury Collision            3111\n",
              "Fatality Collision                   352\n",
              "Name: SEVERITYDESC, dtype: int64"
            ]
          },
          "metadata": {
            "tags": []
          },
          "execution_count": 5
        }
      ]
    },
    {
      "cell_type": "code",
      "metadata": {
        "id": "yntlUGBt4e_Z",
        "outputId": "da7ac937-f64b-425b-df01-b8a11152ef6c",
        "colab": {
          "base_uri": "https://localhost:8080/",
          "height": 317
        }
      },
      "source": [
        "df.describe()"
      ],
      "execution_count": 6,
      "outputs": [
        {
          "output_type": "execute_result",
          "data": {
            "text/html": [
              "<div>\n",
              "<style scoped>\n",
              "    .dataframe tbody tr th:only-of-type {\n",
              "        vertical-align: middle;\n",
              "    }\n",
              "\n",
              "    .dataframe tbody tr th {\n",
              "        vertical-align: top;\n",
              "    }\n",
              "\n",
              "    .dataframe thead th {\n",
              "        text-align: right;\n",
              "    }\n",
              "</style>\n",
              "<table border=\"1\" class=\"dataframe\">\n",
              "  <thead>\n",
              "    <tr style=\"text-align: right;\">\n",
              "      <th></th>\n",
              "      <th>X</th>\n",
              "      <th>Y</th>\n",
              "      <th>OBJECTID</th>\n",
              "      <th>INCKEY</th>\n",
              "      <th>COLDETKEY</th>\n",
              "      <th>INTKEY</th>\n",
              "      <th>PERSONCOUNT</th>\n",
              "      <th>PEDCOUNT</th>\n",
              "      <th>PEDCYLCOUNT</th>\n",
              "      <th>VEHCOUNT</th>\n",
              "      <th>INJURIES</th>\n",
              "      <th>SERIOUSINJURIES</th>\n",
              "      <th>FATALITIES</th>\n",
              "      <th>SDOT_COLCODE</th>\n",
              "      <th>SDOTCOLNUM</th>\n",
              "      <th>SEGLANEKEY</th>\n",
              "      <th>CROSSWALKKEY</th>\n",
              "    </tr>\n",
              "  </thead>\n",
              "  <tbody>\n",
              "    <tr>\n",
              "      <th>count</th>\n",
              "      <td>214260.000000</td>\n",
              "      <td>214260.000000</td>\n",
              "      <td>221738.000000</td>\n",
              "      <td>221738.000000</td>\n",
              "      <td>221738.000000</td>\n",
              "      <td>72027.000000</td>\n",
              "      <td>221738.000000</td>\n",
              "      <td>221738.000000</td>\n",
              "      <td>221738.000000</td>\n",
              "      <td>221738.000000</td>\n",
              "      <td>221738.000000</td>\n",
              "      <td>221738.000000</td>\n",
              "      <td>221738.000000</td>\n",
              "      <td>221737.000000</td>\n",
              "      <td>1.272050e+05</td>\n",
              "      <td>221738.000000</td>\n",
              "      <td>2.217380e+05</td>\n",
              "    </tr>\n",
              "    <tr>\n",
              "      <th>mean</th>\n",
              "      <td>-122.330753</td>\n",
              "      <td>47.620191</td>\n",
              "      <td>110869.500000</td>\n",
              "      <td>145006.735517</td>\n",
              "      <td>145236.969811</td>\n",
              "      <td>37636.986713</td>\n",
              "      <td>2.226741</td>\n",
              "      <td>0.038095</td>\n",
              "      <td>0.027352</td>\n",
              "      <td>1.729442</td>\n",
              "      <td>0.373964</td>\n",
              "      <td>0.015203</td>\n",
              "      <td>0.001700</td>\n",
              "      <td>13.383305</td>\n",
              "      <td>7.971063e+06</td>\n",
              "      <td>262.624791</td>\n",
              "      <td>9.568044e+03</td>\n",
              "    </tr>\n",
              "    <tr>\n",
              "      <th>std</th>\n",
              "      <td>0.030058</td>\n",
              "      <td>0.056059</td>\n",
              "      <td>64010.391332</td>\n",
              "      <td>89372.351774</td>\n",
              "      <td>89749.554004</td>\n",
              "      <td>52000.820955</td>\n",
              "      <td>1.469699</td>\n",
              "      <td>0.201704</td>\n",
              "      <td>0.164512</td>\n",
              "      <td>0.830529</td>\n",
              "      <td>0.732050</td>\n",
              "      <td>0.158004</td>\n",
              "      <td>0.044967</td>\n",
              "      <td>7.298289</td>\n",
              "      <td>2.611523e+06</td>\n",
              "      <td>3252.882590</td>\n",
              "      <td>7.142784e+04</td>\n",
              "    </tr>\n",
              "    <tr>\n",
              "      <th>min</th>\n",
              "      <td>-122.419091</td>\n",
              "      <td>47.495573</td>\n",
              "      <td>1.000000</td>\n",
              "      <td>1001.000000</td>\n",
              "      <td>1001.000000</td>\n",
              "      <td>23807.000000</td>\n",
              "      <td>0.000000</td>\n",
              "      <td>0.000000</td>\n",
              "      <td>0.000000</td>\n",
              "      <td>0.000000</td>\n",
              "      <td>0.000000</td>\n",
              "      <td>0.000000</td>\n",
              "      <td>0.000000</td>\n",
              "      <td>0.000000</td>\n",
              "      <td>1.007024e+06</td>\n",
              "      <td>0.000000</td>\n",
              "      <td>0.000000e+00</td>\n",
              "    </tr>\n",
              "    <tr>\n",
              "      <th>25%</th>\n",
              "      <td>-122.349280</td>\n",
              "      <td>47.577106</td>\n",
              "      <td>55435.250000</td>\n",
              "      <td>71721.250000</td>\n",
              "      <td>71721.250000</td>\n",
              "      <td>28653.000000</td>\n",
              "      <td>2.000000</td>\n",
              "      <td>0.000000</td>\n",
              "      <td>0.000000</td>\n",
              "      <td>2.000000</td>\n",
              "      <td>0.000000</td>\n",
              "      <td>0.000000</td>\n",
              "      <td>0.000000</td>\n",
              "      <td>11.000000</td>\n",
              "      <td>6.007029e+06</td>\n",
              "      <td>0.000000</td>\n",
              "      <td>0.000000e+00</td>\n",
              "    </tr>\n",
              "    <tr>\n",
              "      <th>50%</th>\n",
              "      <td>-122.330363</td>\n",
              "      <td>47.616033</td>\n",
              "      <td>110869.500000</td>\n",
              "      <td>127358.500000</td>\n",
              "      <td>127358.500000</td>\n",
              "      <td>29973.000000</td>\n",
              "      <td>2.000000</td>\n",
              "      <td>0.000000</td>\n",
              "      <td>0.000000</td>\n",
              "      <td>2.000000</td>\n",
              "      <td>0.000000</td>\n",
              "      <td>0.000000</td>\n",
              "      <td>0.000000</td>\n",
              "      <td>11.000000</td>\n",
              "      <td>8.033011e+06</td>\n",
              "      <td>0.000000</td>\n",
              "      <td>0.000000e+00</td>\n",
              "    </tr>\n",
              "    <tr>\n",
              "      <th>75%</th>\n",
              "      <td>-122.311998</td>\n",
              "      <td>47.664290</td>\n",
              "      <td>166303.750000</td>\n",
              "      <td>210118.750000</td>\n",
              "      <td>210338.750000</td>\n",
              "      <td>33984.000000</td>\n",
              "      <td>3.000000</td>\n",
              "      <td>0.000000</td>\n",
              "      <td>0.000000</td>\n",
              "      <td>2.000000</td>\n",
              "      <td>1.000000</td>\n",
              "      <td>0.000000</td>\n",
              "      <td>0.000000</td>\n",
              "      <td>14.000000</td>\n",
              "      <td>1.018101e+07</td>\n",
              "      <td>0.000000</td>\n",
              "      <td>0.000000e+00</td>\n",
              "    </tr>\n",
              "    <tr>\n",
              "      <th>max</th>\n",
              "      <td>-122.238949</td>\n",
              "      <td>47.734142</td>\n",
              "      <td>221738.000000</td>\n",
              "      <td>334276.000000</td>\n",
              "      <td>335776.000000</td>\n",
              "      <td>764413.000000</td>\n",
              "      <td>93.000000</td>\n",
              "      <td>6.000000</td>\n",
              "      <td>2.000000</td>\n",
              "      <td>15.000000</td>\n",
              "      <td>78.000000</td>\n",
              "      <td>41.000000</td>\n",
              "      <td>5.000000</td>\n",
              "      <td>87.000000</td>\n",
              "      <td>1.307202e+07</td>\n",
              "      <td>525241.000000</td>\n",
              "      <td>5.239700e+06</td>\n",
              "    </tr>\n",
              "  </tbody>\n",
              "</table>\n",
              "</div>"
            ],
            "text/plain": [
              "                   X              Y  ...     SEGLANEKEY  CROSSWALKKEY\n",
              "count  214260.000000  214260.000000  ...  221738.000000  2.217380e+05\n",
              "mean     -122.330753      47.620191  ...     262.624791  9.568044e+03\n",
              "std         0.030058       0.056059  ...    3252.882590  7.142784e+04\n",
              "min      -122.419091      47.495573  ...       0.000000  0.000000e+00\n",
              "25%      -122.349280      47.577106  ...       0.000000  0.000000e+00\n",
              "50%      -122.330363      47.616033  ...       0.000000  0.000000e+00\n",
              "75%      -122.311998      47.664290  ...       0.000000  0.000000e+00\n",
              "max      -122.238949      47.734142  ...  525241.000000  5.239700e+06\n",
              "\n",
              "[8 rows x 17 columns]"
            ]
          },
          "metadata": {
            "tags": []
          },
          "execution_count": 6
        }
      ]
    },
    {
      "cell_type": "code",
      "metadata": {
        "id": "HHanMxN24hH2",
        "outputId": "2ab62bcc-384f-492b-e71c-020653aced17",
        "colab": {
          "base_uri": "https://localhost:8080/"
        }
      },
      "source": [
        "print (df.shape)"
      ],
      "execution_count": 7,
      "outputs": [
        {
          "output_type": "stream",
          "text": [
            "(221738, 40)\n"
          ],
          "name": "stdout"
        }
      ]
    },
    {
      "cell_type": "code",
      "metadata": {
        "id": "DMJ8HTpb4jxV",
        "outputId": "5ef3024e-2022-47c6-a8c4-9e4863574b3a",
        "colab": {
          "base_uri": "https://localhost:8080/"
        }
      },
      "source": [
        "df['SEVERITYCODE'].replace('2b','4',inplace = True)\n",
        "df['SEVERITYCODE'].value_counts()"
      ],
      "execution_count": 8,
      "outputs": [
        {
          "output_type": "execute_result",
          "data": {
            "text/plain": [
              "1    137776\n",
              "2     58842\n",
              "0     21656\n",
              "4      3111\n",
              "3       352\n",
              "Name: SEVERITYCODE, dtype: int64"
            ]
          },
          "metadata": {
            "tags": []
          },
          "execution_count": 8
        }
      ]
    },
    {
      "cell_type": "code",
      "metadata": {
        "id": "hiwCcr_O42ky",
        "outputId": "16b9cea2-1992-4ae8-abc8-ac0460f7425b",
        "colab": {
          "base_uri": "https://localhost:8080/"
        }
      },
      "source": [
        "df['SEVERITYCODE'] = pd.to_numeric(df['SEVERITYCODE'])\n",
        "df['SEVERITYCODE'].value_counts()"
      ],
      "execution_count": 9,
      "outputs": [
        {
          "output_type": "execute_result",
          "data": {
            "text/plain": [
              "1.0    137776\n",
              "2.0     58842\n",
              "0.0     21656\n",
              "4.0      3111\n",
              "3.0       352\n",
              "Name: SEVERITYCODE, dtype: int64"
            ]
          },
          "metadata": {
            "tags": []
          },
          "execution_count": 9
        }
      ]
    },
    {
      "cell_type": "code",
      "metadata": {
        "id": "obx_2scm5Odr",
        "outputId": "e5ce2a35-41ce-4dab-8db5-22343942038c",
        "colab": {
          "base_uri": "https://localhost:8080/",
          "height": 315
        }
      },
      "source": [
        "df.hist(column='SEVERITYCODE')"
      ],
      "execution_count": 10,
      "outputs": [
        {
          "output_type": "execute_result",
          "data": {
            "text/plain": [
              "array([[<matplotlib.axes._subplots.AxesSubplot object at 0x7f6b49ce5668>]],\n",
              "      dtype=object)"
            ]
          },
          "metadata": {
            "tags": []
          },
          "execution_count": 10
        },
        {
          "output_type": "display_data",
          "data": {
            "image/png": "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\n",
            "text/plain": [
              "<Figure size 432x288 with 1 Axes>"
            ]
          },
          "metadata": {
            "tags": [],
            "needs_background": "light"
          }
        }
      ]
    },
    {
      "cell_type": "code",
      "metadata": {
        "id": "BKrW2pdB5Soa",
        "outputId": "12c5dc50-482f-4757-eae8-7b6c8a953953",
        "colab": {
          "base_uri": "https://localhost:8080/"
        }
      },
      "source": [
        "from sklearn.utils import resample\n",
        "df_maj = df[df.SEVERITYCODE==1]\n",
        "df_min = df[df.SEVERITYCODE!=1]\n",
        "\n",
        "df_dsample = resample(df_maj,\n",
        "                      replace=False,\n",
        "                      n_samples= 65000,\n",
        "                      random_state=123)\n",
        "\n",
        "balanced_df = pd.concat([df_dsample, df_min])\n",
        "\n",
        "balanced_df['SEVERITYCODE'].value_counts()"
      ],
      "execution_count": 11,
      "outputs": [
        {
          "output_type": "execute_result",
          "data": {
            "text/plain": [
              "1.0    65000\n",
              "2.0    58842\n",
              "0.0    21656\n",
              "4.0     3111\n",
              "3.0      352\n",
              "Name: SEVERITYCODE, dtype: int64"
            ]
          },
          "metadata": {
            "tags": []
          },
          "execution_count": 11
        }
      ]
    },
    {
      "cell_type": "code",
      "metadata": {
        "id": "smNc6aYY5fjN",
        "outputId": "592c87d0-9ea8-4fef-ea75-7cc9b38f08ab",
        "colab": {
          "base_uri": "https://localhost:8080/",
          "height": 719
        }
      },
      "source": [
        "\n",
        "balanced_df[['X','Y','SEVERITYCODE','SEVERITYDESC','COLLISIONTYPE','PERSONCOUNT','PEDCOUNT','PEDCYLCOUNT','VEHCOUNT','INJURIES','SERIOUSINJURIES','FATALITIES','JUNCTIONTYPE','WEATHER','ROADCOND','LIGHTCOND','SPEEDING']].head(10)"
      ],
      "execution_count": 12,
      "outputs": [
        {
          "output_type": "execute_result",
          "data": {
            "text/html": [
              "<div>\n",
              "<style scoped>\n",
              "    .dataframe tbody tr th:only-of-type {\n",
              "        vertical-align: middle;\n",
              "    }\n",
              "\n",
              "    .dataframe tbody tr th {\n",
              "        vertical-align: top;\n",
              "    }\n",
              "\n",
              "    .dataframe thead th {\n",
              "        text-align: right;\n",
              "    }\n",
              "</style>\n",
              "<table border=\"1\" class=\"dataframe\">\n",
              "  <thead>\n",
              "    <tr style=\"text-align: right;\">\n",
              "      <th></th>\n",
              "      <th>X</th>\n",
              "      <th>Y</th>\n",
              "      <th>SEVERITYCODE</th>\n",
              "      <th>SEVERITYDESC</th>\n",
              "      <th>COLLISIONTYPE</th>\n",
              "      <th>PERSONCOUNT</th>\n",
              "      <th>PEDCOUNT</th>\n",
              "      <th>PEDCYLCOUNT</th>\n",
              "      <th>VEHCOUNT</th>\n",
              "      <th>INJURIES</th>\n",
              "      <th>SERIOUSINJURIES</th>\n",
              "      <th>FATALITIES</th>\n",
              "      <th>JUNCTIONTYPE</th>\n",
              "      <th>WEATHER</th>\n",
              "      <th>ROADCOND</th>\n",
              "      <th>LIGHTCOND</th>\n",
              "      <th>SPEEDING</th>\n",
              "    </tr>\n",
              "  </thead>\n",
              "  <tbody>\n",
              "    <tr>\n",
              "      <th>140443</th>\n",
              "      <td>-122.328225</td>\n",
              "      <td>47.529262</td>\n",
              "      <td>1.0</td>\n",
              "      <td>Property Damage Only Collision</td>\n",
              "      <td>Right Turn</td>\n",
              "      <td>2</td>\n",
              "      <td>0</td>\n",
              "      <td>0</td>\n",
              "      <td>2</td>\n",
              "      <td>0</td>\n",
              "      <td>0</td>\n",
              "      <td>0</td>\n",
              "      <td>Mid-Block (not related to intersection)</td>\n",
              "      <td>Overcast</td>\n",
              "      <td>Wet</td>\n",
              "      <td>Dawn</td>\n",
              "      <td>NaN</td>\n",
              "    </tr>\n",
              "    <tr>\n",
              "      <th>146269</th>\n",
              "      <td>-122.353427</td>\n",
              "      <td>47.646887</td>\n",
              "      <td>1.0</td>\n",
              "      <td>Property Damage Only Collision</td>\n",
              "      <td>Parked Car</td>\n",
              "      <td>2</td>\n",
              "      <td>0</td>\n",
              "      <td>0</td>\n",
              "      <td>2</td>\n",
              "      <td>0</td>\n",
              "      <td>0</td>\n",
              "      <td>0</td>\n",
              "      <td>At Intersection (intersection related)</td>\n",
              "      <td>Unknown</td>\n",
              "      <td>Unknown</td>\n",
              "      <td>Unknown</td>\n",
              "      <td>NaN</td>\n",
              "    </tr>\n",
              "    <tr>\n",
              "      <th>122846</th>\n",
              "      <td>-122.356715</td>\n",
              "      <td>47.623929</td>\n",
              "      <td>1.0</td>\n",
              "      <td>Property Damage Only Collision</td>\n",
              "      <td>Parked Car</td>\n",
              "      <td>2</td>\n",
              "      <td>0</td>\n",
              "      <td>0</td>\n",
              "      <td>2</td>\n",
              "      <td>0</td>\n",
              "      <td>0</td>\n",
              "      <td>0</td>\n",
              "      <td>Mid-Block (not related to intersection)</td>\n",
              "      <td>Clear</td>\n",
              "      <td>Dry</td>\n",
              "      <td>Daylight</td>\n",
              "      <td>NaN</td>\n",
              "    </tr>\n",
              "    <tr>\n",
              "      <th>200391</th>\n",
              "      <td>-122.335094</td>\n",
              "      <td>47.708169</td>\n",
              "      <td>1.0</td>\n",
              "      <td>Property Damage Only Collision</td>\n",
              "      <td>Sideswipe</td>\n",
              "      <td>3</td>\n",
              "      <td>0</td>\n",
              "      <td>0</td>\n",
              "      <td>2</td>\n",
              "      <td>0</td>\n",
              "      <td>0</td>\n",
              "      <td>0</td>\n",
              "      <td>Mid-Block (not related to intersection)</td>\n",
              "      <td>Clear</td>\n",
              "      <td>Dry</td>\n",
              "      <td>Daylight</td>\n",
              "      <td>NaN</td>\n",
              "    </tr>\n",
              "    <tr>\n",
              "      <th>9379</th>\n",
              "      <td>-122.314301</td>\n",
              "      <td>47.547709</td>\n",
              "      <td>1.0</td>\n",
              "      <td>Property Damage Only Collision</td>\n",
              "      <td>Other</td>\n",
              "      <td>1</td>\n",
              "      <td>0</td>\n",
              "      <td>0</td>\n",
              "      <td>1</td>\n",
              "      <td>0</td>\n",
              "      <td>0</td>\n",
              "      <td>0</td>\n",
              "      <td>Mid-Block (not related to intersection)</td>\n",
              "      <td>Raining</td>\n",
              "      <td>Wet</td>\n",
              "      <td>Daylight</td>\n",
              "      <td>NaN</td>\n",
              "    </tr>\n",
              "    <tr>\n",
              "      <th>119711</th>\n",
              "      <td>-122.338693</td>\n",
              "      <td>47.652335</td>\n",
              "      <td>1.0</td>\n",
              "      <td>Property Damage Only Collision</td>\n",
              "      <td>Parked Car</td>\n",
              "      <td>2</td>\n",
              "      <td>0</td>\n",
              "      <td>0</td>\n",
              "      <td>2</td>\n",
              "      <td>0</td>\n",
              "      <td>0</td>\n",
              "      <td>0</td>\n",
              "      <td>NaN</td>\n",
              "      <td>Unknown</td>\n",
              "      <td>Unknown</td>\n",
              "      <td>Unknown</td>\n",
              "      <td>NaN</td>\n",
              "    </tr>\n",
              "    <tr>\n",
              "      <th>76534</th>\n",
              "      <td>-122.323754</td>\n",
              "      <td>47.598350</td>\n",
              "      <td>1.0</td>\n",
              "      <td>Property Damage Only Collision</td>\n",
              "      <td>Angles</td>\n",
              "      <td>2</td>\n",
              "      <td>0</td>\n",
              "      <td>0</td>\n",
              "      <td>2</td>\n",
              "      <td>0</td>\n",
              "      <td>0</td>\n",
              "      <td>0</td>\n",
              "      <td>At Intersection (intersection related)</td>\n",
              "      <td>Clear</td>\n",
              "      <td>Dry</td>\n",
              "      <td>Daylight</td>\n",
              "      <td>NaN</td>\n",
              "    </tr>\n",
              "    <tr>\n",
              "      <th>214363</th>\n",
              "      <td>-122.335036</td>\n",
              "      <td>47.697772</td>\n",
              "      <td>1.0</td>\n",
              "      <td>Property Damage Only Collision</td>\n",
              "      <td>Angles</td>\n",
              "      <td>3</td>\n",
              "      <td>0</td>\n",
              "      <td>0</td>\n",
              "      <td>2</td>\n",
              "      <td>0</td>\n",
              "      <td>0</td>\n",
              "      <td>0</td>\n",
              "      <td>At Intersection (intersection related)</td>\n",
              "      <td>Overcast</td>\n",
              "      <td>Wet</td>\n",
              "      <td>Daylight</td>\n",
              "      <td>NaN</td>\n",
              "    </tr>\n",
              "    <tr>\n",
              "      <th>215118</th>\n",
              "      <td>-122.334198</td>\n",
              "      <td>47.585043</td>\n",
              "      <td>1.0</td>\n",
              "      <td>Property Damage Only Collision</td>\n",
              "      <td>Sideswipe</td>\n",
              "      <td>2</td>\n",
              "      <td>0</td>\n",
              "      <td>0</td>\n",
              "      <td>2</td>\n",
              "      <td>0</td>\n",
              "      <td>0</td>\n",
              "      <td>0</td>\n",
              "      <td>Mid-Block (not related to intersection)</td>\n",
              "      <td>Overcast</td>\n",
              "      <td>Dry</td>\n",
              "      <td>Daylight</td>\n",
              "      <td>NaN</td>\n",
              "    </tr>\n",
              "    <tr>\n",
              "      <th>41613</th>\n",
              "      <td>-122.320603</td>\n",
              "      <td>47.710395</td>\n",
              "      <td>1.0</td>\n",
              "      <td>Property Damage Only Collision</td>\n",
              "      <td>Other</td>\n",
              "      <td>2</td>\n",
              "      <td>0</td>\n",
              "      <td>0</td>\n",
              "      <td>2</td>\n",
              "      <td>0</td>\n",
              "      <td>0</td>\n",
              "      <td>0</td>\n",
              "      <td>Mid-Block (not related to intersection)</td>\n",
              "      <td>Clear</td>\n",
              "      <td>Dry</td>\n",
              "      <td>Daylight</td>\n",
              "      <td>NaN</td>\n",
              "    </tr>\n",
              "  </tbody>\n",
              "</table>\n",
              "</div>"
            ],
            "text/plain": [
              "                 X          Y  SEVERITYCODE  ... ROADCOND LIGHTCOND  SPEEDING\n",
              "140443 -122.328225  47.529262           1.0  ...      Wet      Dawn       NaN\n",
              "146269 -122.353427  47.646887           1.0  ...  Unknown   Unknown       NaN\n",
              "122846 -122.356715  47.623929           1.0  ...      Dry  Daylight       NaN\n",
              "200391 -122.335094  47.708169           1.0  ...      Dry  Daylight       NaN\n",
              "9379   -122.314301  47.547709           1.0  ...      Wet  Daylight       NaN\n",
              "119711 -122.338693  47.652335           1.0  ...  Unknown   Unknown       NaN\n",
              "76534  -122.323754  47.598350           1.0  ...      Dry  Daylight       NaN\n",
              "214363 -122.335036  47.697772           1.0  ...      Wet  Daylight       NaN\n",
              "215118 -122.334198  47.585043           1.0  ...      Dry  Daylight       NaN\n",
              "41613  -122.320603  47.710395           1.0  ...      Dry  Daylight       NaN\n",
              "\n",
              "[10 rows x 17 columns]"
            ]
          },
          "metadata": {
            "tags": []
          },
          "execution_count": 12
        }
      ]
    },
    {
      "cell_type": "code",
      "metadata": {
        "id": "BBL_mBzB5k4j",
        "outputId": "67e6637f-288f-45a9-f0e2-f12f8ef0d1f5",
        "colab": {
          "base_uri": "https://localhost:8080/",
          "height": 1000
        }
      },
      "source": [
        "df_car = balanced_df[['SEVERITYCODE','COLLISIONTYPE','PERSONCOUNT','PEDCOUNT','PEDCYLCOUNT','VEHCOUNT','INJURIES','SERIOUSINJURIES','FATALITIES','JUNCTIONTYPE','WEATHER','ROADCOND','LIGHTCOND','SPEEDING']]\n",
        "df_car.head(20)"
      ],
      "execution_count": 13,
      "outputs": [
        {
          "output_type": "execute_result",
          "data": {
            "text/html": [
              "<div>\n",
              "<style scoped>\n",
              "    .dataframe tbody tr th:only-of-type {\n",
              "        vertical-align: middle;\n",
              "    }\n",
              "\n",
              "    .dataframe tbody tr th {\n",
              "        vertical-align: top;\n",
              "    }\n",
              "\n",
              "    .dataframe thead th {\n",
              "        text-align: right;\n",
              "    }\n",
              "</style>\n",
              "<table border=\"1\" class=\"dataframe\">\n",
              "  <thead>\n",
              "    <tr style=\"text-align: right;\">\n",
              "      <th></th>\n",
              "      <th>SEVERITYCODE</th>\n",
              "      <th>COLLISIONTYPE</th>\n",
              "      <th>PERSONCOUNT</th>\n",
              "      <th>PEDCOUNT</th>\n",
              "      <th>PEDCYLCOUNT</th>\n",
              "      <th>VEHCOUNT</th>\n",
              "      <th>INJURIES</th>\n",
              "      <th>SERIOUSINJURIES</th>\n",
              "      <th>FATALITIES</th>\n",
              "      <th>JUNCTIONTYPE</th>\n",
              "      <th>WEATHER</th>\n",
              "      <th>ROADCOND</th>\n",
              "      <th>LIGHTCOND</th>\n",
              "      <th>SPEEDING</th>\n",
              "    </tr>\n",
              "  </thead>\n",
              "  <tbody>\n",
              "    <tr>\n",
              "      <th>140443</th>\n",
              "      <td>1.0</td>\n",
              "      <td>Right Turn</td>\n",
              "      <td>2</td>\n",
              "      <td>0</td>\n",
              "      <td>0</td>\n",
              "      <td>2</td>\n",
              "      <td>0</td>\n",
              "      <td>0</td>\n",
              "      <td>0</td>\n",
              "      <td>Mid-Block (not related to intersection)</td>\n",
              "      <td>Overcast</td>\n",
              "      <td>Wet</td>\n",
              "      <td>Dawn</td>\n",
              "      <td>NaN</td>\n",
              "    </tr>\n",
              "    <tr>\n",
              "      <th>146269</th>\n",
              "      <td>1.0</td>\n",
              "      <td>Parked Car</td>\n",
              "      <td>2</td>\n",
              "      <td>0</td>\n",
              "      <td>0</td>\n",
              "      <td>2</td>\n",
              "      <td>0</td>\n",
              "      <td>0</td>\n",
              "      <td>0</td>\n",
              "      <td>At Intersection (intersection related)</td>\n",
              "      <td>Unknown</td>\n",
              "      <td>Unknown</td>\n",
              "      <td>Unknown</td>\n",
              "      <td>NaN</td>\n",
              "    </tr>\n",
              "    <tr>\n",
              "      <th>122846</th>\n",
              "      <td>1.0</td>\n",
              "      <td>Parked Car</td>\n",
              "      <td>2</td>\n",
              "      <td>0</td>\n",
              "      <td>0</td>\n",
              "      <td>2</td>\n",
              "      <td>0</td>\n",
              "      <td>0</td>\n",
              "      <td>0</td>\n",
              "      <td>Mid-Block (not related to intersection)</td>\n",
              "      <td>Clear</td>\n",
              "      <td>Dry</td>\n",
              "      <td>Daylight</td>\n",
              "      <td>NaN</td>\n",
              "    </tr>\n",
              "    <tr>\n",
              "      <th>200391</th>\n",
              "      <td>1.0</td>\n",
              "      <td>Sideswipe</td>\n",
              "      <td>3</td>\n",
              "      <td>0</td>\n",
              "      <td>0</td>\n",
              "      <td>2</td>\n",
              "      <td>0</td>\n",
              "      <td>0</td>\n",
              "      <td>0</td>\n",
              "      <td>Mid-Block (not related to intersection)</td>\n",
              "      <td>Clear</td>\n",
              "      <td>Dry</td>\n",
              "      <td>Daylight</td>\n",
              "      <td>NaN</td>\n",
              "    </tr>\n",
              "    <tr>\n",
              "      <th>9379</th>\n",
              "      <td>1.0</td>\n",
              "      <td>Other</td>\n",
              "      <td>1</td>\n",
              "      <td>0</td>\n",
              "      <td>0</td>\n",
              "      <td>1</td>\n",
              "      <td>0</td>\n",
              "      <td>0</td>\n",
              "      <td>0</td>\n",
              "      <td>Mid-Block (not related to intersection)</td>\n",
              "      <td>Raining</td>\n",
              "      <td>Wet</td>\n",
              "      <td>Daylight</td>\n",
              "      <td>NaN</td>\n",
              "    </tr>\n",
              "    <tr>\n",
              "      <th>119711</th>\n",
              "      <td>1.0</td>\n",
              "      <td>Parked Car</td>\n",
              "      <td>2</td>\n",
              "      <td>0</td>\n",
              "      <td>0</td>\n",
              "      <td>2</td>\n",
              "      <td>0</td>\n",
              "      <td>0</td>\n",
              "      <td>0</td>\n",
              "      <td>NaN</td>\n",
              "      <td>Unknown</td>\n",
              "      <td>Unknown</td>\n",
              "      <td>Unknown</td>\n",
              "      <td>NaN</td>\n",
              "    </tr>\n",
              "    <tr>\n",
              "      <th>76534</th>\n",
              "      <td>1.0</td>\n",
              "      <td>Angles</td>\n",
              "      <td>2</td>\n",
              "      <td>0</td>\n",
              "      <td>0</td>\n",
              "      <td>2</td>\n",
              "      <td>0</td>\n",
              "      <td>0</td>\n",
              "      <td>0</td>\n",
              "      <td>At Intersection (intersection related)</td>\n",
              "      <td>Clear</td>\n",
              "      <td>Dry</td>\n",
              "      <td>Daylight</td>\n",
              "      <td>NaN</td>\n",
              "    </tr>\n",
              "    <tr>\n",
              "      <th>214363</th>\n",
              "      <td>1.0</td>\n",
              "      <td>Angles</td>\n",
              "      <td>3</td>\n",
              "      <td>0</td>\n",
              "      <td>0</td>\n",
              "      <td>2</td>\n",
              "      <td>0</td>\n",
              "      <td>0</td>\n",
              "      <td>0</td>\n",
              "      <td>At Intersection (intersection related)</td>\n",
              "      <td>Overcast</td>\n",
              "      <td>Wet</td>\n",
              "      <td>Daylight</td>\n",
              "      <td>NaN</td>\n",
              "    </tr>\n",
              "    <tr>\n",
              "      <th>215118</th>\n",
              "      <td>1.0</td>\n",
              "      <td>Sideswipe</td>\n",
              "      <td>2</td>\n",
              "      <td>0</td>\n",
              "      <td>0</td>\n",
              "      <td>2</td>\n",
              "      <td>0</td>\n",
              "      <td>0</td>\n",
              "      <td>0</td>\n",
              "      <td>Mid-Block (not related to intersection)</td>\n",
              "      <td>Overcast</td>\n",
              "      <td>Dry</td>\n",
              "      <td>Daylight</td>\n",
              "      <td>NaN</td>\n",
              "    </tr>\n",
              "    <tr>\n",
              "      <th>41613</th>\n",
              "      <td>1.0</td>\n",
              "      <td>Other</td>\n",
              "      <td>2</td>\n",
              "      <td>0</td>\n",
              "      <td>0</td>\n",
              "      <td>2</td>\n",
              "      <td>0</td>\n",
              "      <td>0</td>\n",
              "      <td>0</td>\n",
              "      <td>Mid-Block (not related to intersection)</td>\n",
              "      <td>Clear</td>\n",
              "      <td>Dry</td>\n",
              "      <td>Daylight</td>\n",
              "      <td>NaN</td>\n",
              "    </tr>\n",
              "    <tr>\n",
              "      <th>43874</th>\n",
              "      <td>1.0</td>\n",
              "      <td>Rear Ended</td>\n",
              "      <td>3</td>\n",
              "      <td>0</td>\n",
              "      <td>0</td>\n",
              "      <td>2</td>\n",
              "      <td>0</td>\n",
              "      <td>0</td>\n",
              "      <td>0</td>\n",
              "      <td>Mid-Block (not related to intersection)</td>\n",
              "      <td>Raining</td>\n",
              "      <td>Wet</td>\n",
              "      <td>Daylight</td>\n",
              "      <td>NaN</td>\n",
              "    </tr>\n",
              "    <tr>\n",
              "      <th>134404</th>\n",
              "      <td>1.0</td>\n",
              "      <td>Parked Car</td>\n",
              "      <td>3</td>\n",
              "      <td>0</td>\n",
              "      <td>0</td>\n",
              "      <td>3</td>\n",
              "      <td>0</td>\n",
              "      <td>0</td>\n",
              "      <td>0</td>\n",
              "      <td>Mid-Block (not related to intersection)</td>\n",
              "      <td>Clear</td>\n",
              "      <td>Dry</td>\n",
              "      <td>Daylight</td>\n",
              "      <td>NaN</td>\n",
              "    </tr>\n",
              "    <tr>\n",
              "      <th>174090</th>\n",
              "      <td>1.0</td>\n",
              "      <td>NaN</td>\n",
              "      <td>2</td>\n",
              "      <td>0</td>\n",
              "      <td>0</td>\n",
              "      <td>0</td>\n",
              "      <td>0</td>\n",
              "      <td>0</td>\n",
              "      <td>0</td>\n",
              "      <td>At Intersection (but not related to intersection)</td>\n",
              "      <td>NaN</td>\n",
              "      <td>NaN</td>\n",
              "      <td>NaN</td>\n",
              "      <td>NaN</td>\n",
              "    </tr>\n",
              "    <tr>\n",
              "      <th>137799</th>\n",
              "      <td>1.0</td>\n",
              "      <td>Other</td>\n",
              "      <td>1</td>\n",
              "      <td>0</td>\n",
              "      <td>0</td>\n",
              "      <td>1</td>\n",
              "      <td>0</td>\n",
              "      <td>0</td>\n",
              "      <td>0</td>\n",
              "      <td>Mid-Block (not related to intersection)</td>\n",
              "      <td>Clear</td>\n",
              "      <td>Dry</td>\n",
              "      <td>Dark - Street Lights On</td>\n",
              "      <td>NaN</td>\n",
              "    </tr>\n",
              "    <tr>\n",
              "      <th>179211</th>\n",
              "      <td>1.0</td>\n",
              "      <td>Parked Car</td>\n",
              "      <td>2</td>\n",
              "      <td>0</td>\n",
              "      <td>0</td>\n",
              "      <td>2</td>\n",
              "      <td>0</td>\n",
              "      <td>0</td>\n",
              "      <td>0</td>\n",
              "      <td>Mid-Block (not related to intersection)</td>\n",
              "      <td>Overcast</td>\n",
              "      <td>Wet</td>\n",
              "      <td>Dark - Street Lights On</td>\n",
              "      <td>NaN</td>\n",
              "    </tr>\n",
              "    <tr>\n",
              "      <th>21162</th>\n",
              "      <td>1.0</td>\n",
              "      <td>Angles</td>\n",
              "      <td>3</td>\n",
              "      <td>0</td>\n",
              "      <td>0</td>\n",
              "      <td>2</td>\n",
              "      <td>0</td>\n",
              "      <td>0</td>\n",
              "      <td>0</td>\n",
              "      <td>At Intersection (intersection related)</td>\n",
              "      <td>Overcast</td>\n",
              "      <td>Dry</td>\n",
              "      <td>Daylight</td>\n",
              "      <td>NaN</td>\n",
              "    </tr>\n",
              "    <tr>\n",
              "      <th>178565</th>\n",
              "      <td>1.0</td>\n",
              "      <td>Other</td>\n",
              "      <td>1</td>\n",
              "      <td>0</td>\n",
              "      <td>0</td>\n",
              "      <td>1</td>\n",
              "      <td>0</td>\n",
              "      <td>0</td>\n",
              "      <td>0</td>\n",
              "      <td>NaN</td>\n",
              "      <td>Overcast</td>\n",
              "      <td>Wet</td>\n",
              "      <td>Daylight</td>\n",
              "      <td>NaN</td>\n",
              "    </tr>\n",
              "    <tr>\n",
              "      <th>78396</th>\n",
              "      <td>1.0</td>\n",
              "      <td>Parked Car</td>\n",
              "      <td>2</td>\n",
              "      <td>0</td>\n",
              "      <td>0</td>\n",
              "      <td>2</td>\n",
              "      <td>0</td>\n",
              "      <td>0</td>\n",
              "      <td>0</td>\n",
              "      <td>Mid-Block (not related to intersection)</td>\n",
              "      <td>Clear</td>\n",
              "      <td>Dry</td>\n",
              "      <td>Dark - Street Lights On</td>\n",
              "      <td>NaN</td>\n",
              "    </tr>\n",
              "    <tr>\n",
              "      <th>35560</th>\n",
              "      <td>1.0</td>\n",
              "      <td>Rear Ended</td>\n",
              "      <td>6</td>\n",
              "      <td>0</td>\n",
              "      <td>0</td>\n",
              "      <td>2</td>\n",
              "      <td>0</td>\n",
              "      <td>0</td>\n",
              "      <td>0</td>\n",
              "      <td>Mid-Block (not related to intersection)</td>\n",
              "      <td>Raining</td>\n",
              "      <td>Wet</td>\n",
              "      <td>Dark - Street Lights On</td>\n",
              "      <td>NaN</td>\n",
              "    </tr>\n",
              "    <tr>\n",
              "      <th>131210</th>\n",
              "      <td>1.0</td>\n",
              "      <td>Rear Ended</td>\n",
              "      <td>2</td>\n",
              "      <td>0</td>\n",
              "      <td>0</td>\n",
              "      <td>2</td>\n",
              "      <td>0</td>\n",
              "      <td>0</td>\n",
              "      <td>0</td>\n",
              "      <td>At Intersection (intersection related)</td>\n",
              "      <td>Clear</td>\n",
              "      <td>Dry</td>\n",
              "      <td>Daylight</td>\n",
              "      <td>NaN</td>\n",
              "    </tr>\n",
              "  </tbody>\n",
              "</table>\n",
              "</div>"
            ],
            "text/plain": [
              "        SEVERITYCODE COLLISIONTYPE  ...                LIGHTCOND  SPEEDING\n",
              "140443           1.0    Right Turn  ...                     Dawn       NaN\n",
              "146269           1.0    Parked Car  ...                  Unknown       NaN\n",
              "122846           1.0    Parked Car  ...                 Daylight       NaN\n",
              "200391           1.0     Sideswipe  ...                 Daylight       NaN\n",
              "9379             1.0         Other  ...                 Daylight       NaN\n",
              "119711           1.0    Parked Car  ...                  Unknown       NaN\n",
              "76534            1.0        Angles  ...                 Daylight       NaN\n",
              "214363           1.0        Angles  ...                 Daylight       NaN\n",
              "215118           1.0     Sideswipe  ...                 Daylight       NaN\n",
              "41613            1.0         Other  ...                 Daylight       NaN\n",
              "43874            1.0    Rear Ended  ...                 Daylight       NaN\n",
              "134404           1.0    Parked Car  ...                 Daylight       NaN\n",
              "174090           1.0           NaN  ...                      NaN       NaN\n",
              "137799           1.0         Other  ...  Dark - Street Lights On       NaN\n",
              "179211           1.0    Parked Car  ...  Dark - Street Lights On       NaN\n",
              "21162            1.0        Angles  ...                 Daylight       NaN\n",
              "178565           1.0         Other  ...                 Daylight       NaN\n",
              "78396            1.0    Parked Car  ...  Dark - Street Lights On       NaN\n",
              "35560            1.0    Rear Ended  ...  Dark - Street Lights On       NaN\n",
              "131210           1.0    Rear Ended  ...                 Daylight       NaN\n",
              "\n",
              "[20 rows x 14 columns]"
            ]
          },
          "metadata": {
            "tags": []
          },
          "execution_count": 13
        }
      ]
    },
    {
      "cell_type": "code",
      "metadata": {
        "id": "Q7Zbeb_R5nnT",
        "outputId": "f62939f0-2b7e-492f-f952-3ca21d486394",
        "colab": {
          "base_uri": "https://localhost:8080/"
        }
      },
      "source": [
        "missing_data = df_car.isnull()\n",
        "missing_data.head(5)\n",
        "\n",
        "for column in missing_data.columns.values.tolist():\n",
        "    print(column)\n",
        "    print (missing_data[column].value_counts())\n",
        "    print(\"\")"
      ],
      "execution_count": 14,
      "outputs": [
        {
          "output_type": "stream",
          "text": [
            "SEVERITYCODE\n",
            "False    148961\n",
            "True          1\n",
            "Name: SEVERITYCODE, dtype: int64\n",
            "\n",
            "COLLISIONTYPE\n",
            "False    124531\n",
            "True      24431\n",
            "Name: COLLISIONTYPE, dtype: int64\n",
            "\n",
            "PERSONCOUNT\n",
            "False    148962\n",
            "Name: PERSONCOUNT, dtype: int64\n",
            "\n",
            "PEDCOUNT\n",
            "False    148962\n",
            "Name: PEDCOUNT, dtype: int64\n",
            "\n",
            "PEDCYLCOUNT\n",
            "False    148962\n",
            "Name: PEDCYLCOUNT, dtype: int64\n",
            "\n",
            "VEHCOUNT\n",
            "False    148962\n",
            "Name: VEHCOUNT, dtype: int64\n",
            "\n",
            "INJURIES\n",
            "False    148962\n",
            "Name: INJURIES, dtype: int64\n",
            "\n",
            "SERIOUSINJURIES\n",
            "False    148962\n",
            "Name: SERIOUSINJURIES, dtype: int64\n",
            "\n",
            "FATALITIES\n",
            "False    148962\n",
            "Name: FATALITIES, dtype: int64\n",
            "\n",
            "JUNCTIONTYPE\n",
            "False    140135\n",
            "True       8827\n",
            "Name: JUNCTIONTYPE, dtype: int64\n",
            "\n",
            "WEATHER\n",
            "False    124413\n",
            "True      24549\n",
            "Name: WEATHER, dtype: int64\n",
            "\n",
            "ROADCOND\n",
            "False    124473\n",
            "True      24489\n",
            "Name: ROADCOND, dtype: int64\n",
            "\n",
            "LIGHTCOND\n",
            "False    124372\n",
            "True      24590\n",
            "Name: LIGHTCOND, dtype: int64\n",
            "\n",
            "SPEEDING\n",
            "True     142060\n",
            "False      6902\n",
            "Name: SPEEDING, dtype: int64\n",
            "\n"
          ],
          "name": "stdout"
        }
      ]
    },
    {
      "cell_type": "code",
      "metadata": {
        "id": "n6bWlJYw5tTz",
        "outputId": "2f31831b-2034-4df7-eb20-eba78189b595",
        "colab": {
          "base_uri": "https://localhost:8080/"
        }
      },
      "source": [
        "df_car['WEATHER'].value_counts()\n"
      ],
      "execution_count": 15,
      "outputs": [
        {
          "output_type": "execute_result",
          "data": {
            "text/plain": [
              "Clear                       74375\n",
              "Raining                     22413\n",
              "Overcast                    18489\n",
              "Unknown                      7628\n",
              "Snowing                       541\n",
              "Other                         470\n",
              "Fog/Smog/Smoke                374\n",
              "Sleet/Hail/Freezing Rain       64\n",
              "Blowing Sand/Dirt              37\n",
              "Severe Crosswind               14\n",
              "Partly Cloudy                   7\n",
              "Blowing Snow                    1\n",
              "Name: WEATHER, dtype: int64"
            ]
          },
          "metadata": {
            "tags": []
          },
          "execution_count": 15
        }
      ]
    },
    {
      "cell_type": "code",
      "metadata": {
        "id": "qt5oJ7d850-J",
        "outputId": "5ccbf668-d163-4683-9166-b7c4264b4ec0",
        "colab": {
          "base_uri": "https://localhost:8080/"
        }
      },
      "source": [
        "df_car['ROADCOND'].value_counts()"
      ],
      "execution_count": 16,
      "outputs": [
        {
          "output_type": "execute_result",
          "data": {
            "text/plain": [
              "Dry               83334\n",
              "Wet               31983\n",
              "Unknown            7579\n",
              "Ice                 755\n",
              "Snow/Slush          584\n",
              "Other                81\n",
              "Standing Water       72\n",
              "Sand/Mud/Dirt        44\n",
              "Oil                  41\n",
              "Name: ROADCOND, dtype: int64"
            ]
          },
          "metadata": {
            "tags": []
          },
          "execution_count": 16
        }
      ]
    },
    {
      "cell_type": "code",
      "metadata": {
        "id": "33e3RD4h54dE",
        "outputId": "ad9ac87f-2a69-4b99-df0e-1c3007a7f9fb",
        "colab": {
          "base_uri": "https://localhost:8080/"
        }
      },
      "source": [
        "df_car['LIGHTCOND'].value_counts()"
      ],
      "execution_count": 17,
      "outputs": [
        {
          "output_type": "execute_result",
          "data": {
            "text/plain": [
              "Daylight                    77920\n",
              "Dark - Street Lights On     32090\n",
              "Unknown                      6805\n",
              "Dusk                         3964\n",
              "Dawn                         1718\n",
              "Dark - No Street Lights       951\n",
              "Dark - Street Lights Off      764\n",
              "Other                         142\n",
              "Dark - Unknown Lighting        18\n",
              "Name: LIGHTCOND, dtype: int64"
            ]
          },
          "metadata": {
            "tags": []
          },
          "execution_count": 17
        }
      ]
    },
    {
      "cell_type": "code",
      "metadata": {
        "id": "CuzOZtkf56WC",
        "outputId": "2bb669dd-a805-4640-c5f5-37a65b297c59",
        "colab": {
          "base_uri": "https://localhost:8080/"
        }
      },
      "source": [
        "df_car['JUNCTIONTYPE'].value_counts()"
      ],
      "execution_count": 18,
      "outputs": [
        {
          "output_type": "execute_result",
          "data": {
            "text/plain": [
              "Mid-Block (not related to intersection)              64154\n",
              "At Intersection (intersection related)               50311\n",
              "Mid-Block (but intersection related)                 16294\n",
              "Driveway Junction                                     7493\n",
              "At Intersection (but not related to intersection)     1739\n",
              "Ramp Junction                                          127\n",
              "Unknown                                                 17\n",
              "Name: JUNCTIONTYPE, dtype: int64"
            ]
          },
          "metadata": {
            "tags": []
          },
          "execution_count": 18
        }
      ]
    },
    {
      "cell_type": "code",
      "metadata": {
        "id": "gszaHwb_573Y",
        "outputId": "7f30e78c-5a25-4e0d-a07b-161f69a713a1",
        "colab": {
          "base_uri": "https://localhost:8080/"
        }
      },
      "source": [
        "df_car['COLLISIONTYPE'].value_counts()"
      ],
      "execution_count": 19,
      "outputs": [
        {
          "output_type": "execute_result",
          "data": {
            "text/plain": [
              "Parked Car    24465\n",
              "Angles        24383\n",
              "Rear Ended    24293\n",
              "Other         15290\n",
              "Sideswipe     10258\n",
              "Left Turn      9658\n",
              "Pedestrian     7318\n",
              "Cycles         5572\n",
              "Right Turn     1746\n",
              "Head On        1548\n",
              "Name: COLLISIONTYPE, dtype: int64"
            ]
          },
          "metadata": {
            "tags": []
          },
          "execution_count": 19
        }
      ]
    },
    {
      "cell_type": "code",
      "metadata": {
        "id": "oEE-xx5W599A",
        "outputId": "3c651137-1e9d-419d-fefe-7825a888d2a8",
        "colab": {
          "base_uri": "https://localhost:8080/"
        }
      },
      "source": [
        "df_car['SPEEDING'].value_counts()"
      ],
      "execution_count": 20,
      "outputs": [
        {
          "output_type": "execute_result",
          "data": {
            "text/plain": [
              "Y    6902\n",
              "Name: SPEEDING, dtype: int64"
            ]
          },
          "metadata": {
            "tags": []
          },
          "execution_count": 20
        }
      ]
    },
    {
      "cell_type": "code",
      "metadata": {
        "id": "aeL9I6Mi6AR1",
        "outputId": "6dcf6d87-4756-4c63-e3dc-3dca591df310",
        "colab": {
          "base_uri": "https://localhost:8080/"
        }
      },
      "source": [
        "import numpy as np\n",
        "\n",
        "df_car[\"COLLISIONTYPE\"].replace(np.nan, \"Unknown\", inplace=True)\n",
        "df_car[\"JUNCTIONTYPE\"].replace(np.nan, \"Unknown\", inplace=True)\n",
        "df_car[\"LIGHTCOND\"].replace(np.nan, \"Unknown\", inplace=True)\n",
        "df_car[\"ROADCOND\"].replace(np.nan, \"Unknown\", inplace=True)\n",
        "df_car[\"WEATHER\"].replace(np.nan, \"Unknown\", inplace=True)\n",
        "df_car[\"SPEEDING\"].replace(np.nan, \"N\", inplace=True)\n",
        "\n",
        "df_car[\"SEVERITYCODE\"].replace(np.nan, 0, inplace=True)"
      ],
      "execution_count": 21,
      "outputs": [
        {
          "output_type": "stream",
          "text": [
            "/usr/local/lib/python3.6/dist-packages/pandas/core/series.py:4569: SettingWithCopyWarning: \n",
            "A value is trying to be set on a copy of a slice from a DataFrame\n",
            "\n",
            "See the caveats in the documentation: https://pandas.pydata.org/pandas-docs/stable/user_guide/indexing.html#returning-a-view-versus-a-copy\n",
            "  method=method,\n"
          ],
          "name": "stderr"
        }
      ]
    },
    {
      "cell_type": "code",
      "metadata": {
        "id": "6uwwNsrR6CG9",
        "outputId": "e3a39170-a003-4d90-fe45-705a8e88c089",
        "colab": {
          "base_uri": "https://localhost:8080/"
        }
      },
      "source": [
        "df_car['SPEEDING'].value_counts()\n"
      ],
      "execution_count": 22,
      "outputs": [
        {
          "output_type": "execute_result",
          "data": {
            "text/plain": [
              "N    142060\n",
              "Y      6902\n",
              "Name: SPEEDING, dtype: int64"
            ]
          },
          "metadata": {
            "tags": []
          },
          "execution_count": 22
        }
      ]
    },
    {
      "cell_type": "code",
      "metadata": {
        "id": "q-yeP3kf6Hv6",
        "outputId": "63d659be-8ca7-4636-ae80-fc6cde67cba2",
        "colab": {
          "base_uri": "https://localhost:8080/"
        }
      },
      "source": [
        "df_car.info()"
      ],
      "execution_count": 23,
      "outputs": [
        {
          "output_type": "stream",
          "text": [
            "<class 'pandas.core.frame.DataFrame'>\n",
            "Int64Index: 148962 entries, 140443 to 221737\n",
            "Data columns (total 14 columns):\n",
            " #   Column           Non-Null Count   Dtype  \n",
            "---  ------           --------------   -----  \n",
            " 0   SEVERITYCODE     148962 non-null  float64\n",
            " 1   COLLISIONTYPE    148962 non-null  object \n",
            " 2   PERSONCOUNT      148962 non-null  int64  \n",
            " 3   PEDCOUNT         148962 non-null  int64  \n",
            " 4   PEDCYLCOUNT      148962 non-null  int64  \n",
            " 5   VEHCOUNT         148962 non-null  int64  \n",
            " 6   INJURIES         148962 non-null  int64  \n",
            " 7   SERIOUSINJURIES  148962 non-null  int64  \n",
            " 8   FATALITIES       148962 non-null  int64  \n",
            " 9   JUNCTIONTYPE     148962 non-null  object \n",
            " 10  WEATHER          148962 non-null  object \n",
            " 11  ROADCOND         148962 non-null  object \n",
            " 12  LIGHTCOND        148962 non-null  object \n",
            " 13  SPEEDING         148962 non-null  object \n",
            "dtypes: float64(1), int64(7), object(6)\n",
            "memory usage: 17.0+ MB\n"
          ],
          "name": "stdout"
        }
      ]
    },
    {
      "cell_type": "markdown",
      "metadata": {
        "id": "CKJQxRQa6MqH"
      },
      "source": [
        "## Exploratory Data Analysis"
      ]
    },
    {
      "cell_type": "code",
      "metadata": {
        "id": "lSmqdVOU6MDE",
        "outputId": "9782fdf9-b8e2-4d2c-edb4-bb1045d98b22",
        "colab": {
          "base_uri": "https://localhost:8080/",
          "height": 417
        }
      },
      "source": [
        "import numpy as np\n",
        "import matplotlib.pyplot as plt\n",
        "import seaborn as sns\n",
        "%matplotlib inline \n",
        "\n",
        "plt.figure(figsize=(20,5))\n",
        "sns.catplot(x=\"SEVERITYCODE\", y=\"WEATHER\", hue=\"SPEEDING\", kind=\"bar\", data=df_car)"
      ],
      "execution_count": 24,
      "outputs": [
        {
          "output_type": "execute_result",
          "data": {
            "text/plain": [
              "<seaborn.axisgrid.FacetGrid at 0x7f6b3df15fd0>"
            ]
          },
          "metadata": {
            "tags": []
          },
          "execution_count": 24
        },
        {
          "output_type": "display_data",
          "data": {
            "text/plain": [
              "<Figure size 1440x360 with 0 Axes>"
            ]
          },
          "metadata": {
            "tags": []
          }
        },
        {
          "output_type": "display_data",
          "data": {
            "image/png": "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\n",
            "text/plain": [
              "<Figure size 418.625x360 with 1 Axes>"
            ]
          },
          "metadata": {
            "tags": [],
            "needs_background": "light"
          }
        }
      ]
    },
    {
      "cell_type": "code",
      "metadata": {
        "id": "fnGv8is06Jfn",
        "outputId": "6c33e533-7de6-4cd0-8e22-be5b48aa1b54",
        "colab": {
          "base_uri": "https://localhost:8080/",
          "height": 417
        }
      },
      "source": [
        "plt.figure(figsize=(20,5))\n",
        "sns.catplot(x=\"SEVERITYCODE\", y=\"ROADCOND\", hue=\"SPEEDING\", kind=\"bar\", data=df_car)"
      ],
      "execution_count": 25,
      "outputs": [
        {
          "output_type": "execute_result",
          "data": {
            "text/plain": [
              "<seaborn.axisgrid.FacetGrid at 0x7f6b4c57d240>"
            ]
          },
          "metadata": {
            "tags": []
          },
          "execution_count": 25
        },
        {
          "output_type": "display_data",
          "data": {
            "text/plain": [
              "<Figure size 1440x360 with 0 Axes>"
            ]
          },
          "metadata": {
            "tags": []
          }
        },
        {
          "output_type": "display_data",
          "data": {
            "image/png": "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\n",
            "text/plain": [
              "<Figure size 418.625x360 with 1 Axes>"
            ]
          },
          "metadata": {
            "tags": [],
            "needs_background": "light"
          }
        }
      ]
    },
    {
      "cell_type": "code",
      "metadata": {
        "id": "a9c7HuHb6YZo",
        "outputId": "732bad3f-8433-4ca5-e75f-90b712c11594",
        "colab": {
          "base_uri": "https://localhost:8080/",
          "height": 417
        }
      },
      "source": [
        "\n",
        "plt.figure(figsize=(20,5))\n",
        "sns.catplot(x=\"SEVERITYCODE\", y=\"LIGHTCOND\", hue=\"SPEEDING\", kind=\"bar\", data=df_car)"
      ],
      "execution_count": 26,
      "outputs": [
        {
          "output_type": "execute_result",
          "data": {
            "text/plain": [
              "<seaborn.axisgrid.FacetGrid at 0x7f6b3ad3ba90>"
            ]
          },
          "metadata": {
            "tags": []
          },
          "execution_count": 26
        },
        {
          "output_type": "display_data",
          "data": {
            "text/plain": [
              "<Figure size 1440x360 with 0 Axes>"
            ]
          },
          "metadata": {
            "tags": []
          }
        },
        {
          "output_type": "display_data",
          "data": {
            "image/png": "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\n",
            "text/plain": [
              "<Figure size 418.625x360 with 1 Axes>"
            ]
          },
          "metadata": {
            "tags": [],
            "needs_background": "light"
          }
        }
      ]
    },
    {
      "cell_type": "code",
      "metadata": {
        "id": "nz9EfGhx6eiI",
        "outputId": "4070b879-6773-45e3-df76-5bf34f7c322b",
        "colab": {
          "base_uri": "https://localhost:8080/",
          "height": 417
        }
      },
      "source": [
        "plt.figure(figsize=(20,5))\n",
        "sns.catplot(x=\"SEVERITYCODE\", y=\"JUNCTIONTYPE\", hue=\"SPEEDING\", kind=\"bar\", data=df_car)"
      ],
      "execution_count": 27,
      "outputs": [
        {
          "output_type": "execute_result",
          "data": {
            "text/plain": [
              "<seaborn.axisgrid.FacetGrid at 0x7f6b3ac4ce10>"
            ]
          },
          "metadata": {
            "tags": []
          },
          "execution_count": 27
        },
        {
          "output_type": "display_data",
          "data": {
            "text/plain": [
              "<Figure size 1440x360 with 0 Axes>"
            ]
          },
          "metadata": {
            "tags": []
          }
        },
        {
          "output_type": "display_data",
          "data": {
            "image/png": "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\n",
            "text/plain": [
              "<Figure size 418.625x360 with 1 Axes>"
            ]
          },
          "metadata": {
            "tags": [],
            "needs_background": "light"
          }
        }
      ]
    },
    {
      "cell_type": "code",
      "metadata": {
        "id": "_pswju5A6gfm",
        "outputId": "e8bd1e30-c920-49d0-e50c-c66f63d1061d",
        "colab": {
          "base_uri": "https://localhost:8080/"
        }
      },
      "source": [
        "X = df_car[['COLLISIONTYPE','PERSONCOUNT','PEDCOUNT','PEDCYLCOUNT','VEHCOUNT','INJURIES','SERIOUSINJURIES','FATALITIES','JUNCTIONTYPE','WEATHER','ROADCOND','LIGHTCOND','SPEEDING']].values\n",
        "X[0:5]"
      ],
      "execution_count": 28,
      "outputs": [
        {
          "output_type": "execute_result",
          "data": {
            "text/plain": [
              "array([['Right Turn', 2, 0, 0, 2, 0, 0, 0,\n",
              "        'Mid-Block (not related to intersection)', 'Overcast', 'Wet',\n",
              "        'Dawn', 'N'],\n",
              "       ['Parked Car', 2, 0, 0, 2, 0, 0, 0,\n",
              "        'At Intersection (intersection related)', 'Unknown', 'Unknown',\n",
              "        'Unknown', 'N'],\n",
              "       ['Parked Car', 2, 0, 0, 2, 0, 0, 0,\n",
              "        'Mid-Block (not related to intersection)', 'Clear', 'Dry',\n",
              "        'Daylight', 'N'],\n",
              "       ['Sideswipe', 3, 0, 0, 2, 0, 0, 0,\n",
              "        'Mid-Block (not related to intersection)', 'Clear', 'Dry',\n",
              "        'Daylight', 'N'],\n",
              "       ['Other', 1, 0, 0, 1, 0, 0, 0,\n",
              "        'Mid-Block (not related to intersection)', 'Raining', 'Wet',\n",
              "        'Daylight', 'N']], dtype=object)"
            ]
          },
          "metadata": {
            "tags": []
          },
          "execution_count": 28
        }
      ]
    },
    {
      "cell_type": "code",
      "metadata": {
        "id": "X1MxwXJu6i1S",
        "outputId": "f8870911-fd98-431d-a6e8-cbc68db40618",
        "colab": {
          "base_uri": "https://localhost:8080/"
        }
      },
      "source": [
        "from sklearn import preprocessing\n",
        "le_Col = preprocessing.LabelEncoder()\n",
        "le_Col.fit(['Angles','Rear Ended','Parked Car', 'Other', 'Sideswipe', 'Left Turn', 'Pedestrian', 'Cycles', 'Right Turn', 'Head On', 'Unknown'])\n",
        "X[:,0] = le_Col.transform(X[:,0]) \n",
        "\n",
        "\n",
        "le_Jun = preprocessing.LabelEncoder()\n",
        "le_Jun.fit([ 'Mid-Block (not related to intersection)', 'At Intersection (intersection related)', 'Mid-Block (but intersection related)','Driveway Junction','At Intersection (but not related to intersection)','Ramp Junction','Unknown'])\n",
        "X[:,8] = le_Jun.transform(X[:,8])\n",
        "\n",
        "\n",
        "le_Wthr = preprocessing.LabelEncoder()\n",
        "le_Wthr.fit([ 'Clear', 'Raining', 'Overcast', 'Unknown', 'Snowing', 'Other', 'Fog/Smog/Smoke', 'Sleet/Hail/Freezing Rain', 'Blowing Sand/Dirt', 'Severe Crosswind', 'Partly Cloudy', 'Blowing Snow'])\n",
        "X[:,9] = le_Wthr.transform(X[:,9]) \n",
        "\n",
        "le_Rcnd = preprocessing.LabelEncoder()\n",
        "le_Rcnd.fit([ 'Dry', 'Wet', 'Unknown', 'Ice', 'Snow/Slush', 'Other', 'Standing Water', 'Sand/Mud/Dirt', 'Oil'])\n",
        "X[:,10] = le_Rcnd.transform(X[:,10]) \n",
        "\n",
        "le_Lcnd = preprocessing.LabelEncoder()\n",
        "le_Lcnd.fit([ 'Daylight', 'Dark - Street Lights On', 'Unknown', 'Dusk', 'Snow/Slush', 'Dawn', 'Dark - No Street Lights', 'Dark - Street Lights Off', 'Other', 'Dark - Unknown Lighting'])\n",
        "X[:,11] = le_Lcnd.transform(X[:,11]) \n",
        "\n",
        "le_Spd = preprocessing.LabelEncoder()\n",
        "le_Spd.fit([ 'Y', 'N'])\n",
        "X[:,12] = le_Spd.transform(X[:,12]) \n",
        "\n",
        "X[0:5]"
      ],
      "execution_count": 29,
      "outputs": [
        {
          "output_type": "execute_result",
          "data": {
            "text/plain": [
              "array([[8, 2, 0, 0, 2, 0, 0, 0, 4, 5, 8, 4, 0],\n",
              "       [5, 2, 0, 0, 2, 0, 0, 0, 1, 11, 7, 9, 0],\n",
              "       [5, 2, 0, 0, 2, 0, 0, 0, 4, 2, 0, 5, 0],\n",
              "       [9, 3, 0, 0, 2, 0, 0, 0, 4, 2, 0, 5, 0],\n",
              "       [4, 1, 0, 0, 1, 0, 0, 0, 4, 7, 8, 5, 0]], dtype=object)"
            ]
          },
          "metadata": {
            "tags": []
          },
          "execution_count": 29
        }
      ]
    },
    {
      "cell_type": "code",
      "metadata": {
        "id": "3oLwK-WT6wJj",
        "outputId": "bf0f024f-3cd4-4ac3-85e6-34b308791e01",
        "colab": {
          "base_uri": "https://localhost:8080/"
        }
      },
      "source": [
        "y = df_car[\"SEVERITYCODE\"]\n",
        "y[0:5]"
      ],
      "execution_count": 30,
      "outputs": [
        {
          "output_type": "execute_result",
          "data": {
            "text/plain": [
              "140443    1.0\n",
              "146269    1.0\n",
              "122846    1.0\n",
              "200391    1.0\n",
              "9379      1.0\n",
              "Name: SEVERITYCODE, dtype: float64"
            ]
          },
          "metadata": {
            "tags": []
          },
          "execution_count": 30
        }
      ]
    },
    {
      "cell_type": "code",
      "metadata": {
        "id": "XU73h1P76zJp",
        "outputId": "5d830fca-63aa-4f61-c069-07a75a61463f",
        "colab": {
          "base_uri": "https://localhost:8080/"
        }
      },
      "source": [
        "import itertools\n",
        "import numpy as np\n",
        "import matplotlib.pyplot as plt\n",
        "from matplotlib.ticker import NullFormatter\n",
        "import pandas as pd\n",
        "import numpy as np\n",
        "import matplotlib.ticker as ticker\n",
        "from sklearn import preprocessing\n",
        "%matplotlib inline\n",
        "\n",
        "X = preprocessing.StandardScaler().fit(X).transform(X.astype(float))\n",
        "X[0:5]"
      ],
      "execution_count": 31,
      "outputs": [
        {
          "output_type": "execute_result",
          "data": {
            "text/plain": [
              "array([[ 0.81883233, -0.11190296, -0.22670164, -0.19763718,  0.41224259,\n",
              "        -0.6672496 , -0.1176568 , -0.04614688,  0.7345875 , -0.03049773,\n",
              "         1.27613092, -0.49199936, -0.22042029],\n",
              "       [-0.08243785, -0.11190296, -0.22670164, -0.19763718,  0.41224259,\n",
              "        -0.6672496 , -0.1176568 , -0.04614688, -1.18119427,  1.6350295 ,\n",
              "         1.0071595 ,  1.62673697, -0.22042029],\n",
              "       [-0.08243785, -0.11190296, -0.22670164, -0.19763718,  0.41224259,\n",
              "        -0.6672496 , -0.1176568 , -0.04614688,  0.7345875 , -0.86326135,\n",
              "        -0.87564045, -0.06825209, -0.22042029],\n",
              "       [ 1.11925572,  0.52270657, -0.22670164, -0.19763718,  0.41224259,\n",
              "        -0.6672496 , -0.1176568 , -0.04614688,  0.7345875 , -0.86326135,\n",
              "        -0.87564045, -0.06825209, -0.22042029],\n",
              "       [-0.38286124, -0.74651249, -0.22670164, -0.19763718, -0.68330057,\n",
              "        -0.6672496 , -0.1176568 , -0.04614688,  0.7345875 ,  0.52467801,\n",
              "         1.27613092, -0.06825209, -0.22042029]])"
            ]
          },
          "metadata": {
            "tags": []
          },
          "execution_count": 31
        }
      ]
    },
    {
      "cell_type": "markdown",
      "metadata": {
        "id": "NQ_TNvjW62wB"
      },
      "source": [
        "## Test-Test Split"
      ]
    },
    {
      "cell_type": "code",
      "metadata": {
        "id": "Dklt1K0B602M",
        "outputId": "1705ee11-aae6-4d5c-8b37-3448be4dcc70",
        "colab": {
          "base_uri": "https://localhost:8080/"
        }
      },
      "source": [
        "from sklearn.model_selection import train_test_split\n",
        "X_train, X_test, y_train, y_test = train_test_split( X, y, test_size=0.3, random_state=4)\n",
        "print ('Train set:', X_train.shape,  y_train.shape)\n",
        "print ('Test set:', X_test.shape,  y_test.shape)"
      ],
      "execution_count": 32,
      "outputs": [
        {
          "output_type": "stream",
          "text": [
            "Train set: (104273, 13) (104273,)\n",
            "Test set: (44689, 13) (44689,)\n"
          ],
          "name": "stdout"
        }
      ]
    },
    {
      "cell_type": "markdown",
      "metadata": {
        "id": "Yb0zOU7n69sC"
      },
      "source": [
        "## Modeling"
      ]
    },
    {
      "cell_type": "markdown",
      "metadata": {
        "id": "xmh50u2w9Rft"
      },
      "source": [
        "### K-Nearest Neighbours (KNN)"
      ]
    },
    {
      "cell_type": "code",
      "metadata": {
        "id": "0YHMVTcJ67na",
        "outputId": "4f7e1715-72bf-419e-d5c3-f332ee900b8a",
        "colab": {
          "base_uri": "https://localhost:8080/"
        }
      },
      "source": [
        "from sklearn.neighbors import KNeighborsClassifier\n",
        "\n",
        "k = 4\n",
        "#Train Model and Predict  \n",
        "neigh = KNeighborsClassifier(n_neighbors = k).fit(X_train,y_train)\n",
        "neigh"
      ],
      "execution_count": 33,
      "outputs": [
        {
          "output_type": "execute_result",
          "data": {
            "text/plain": [
              "KNeighborsClassifier(algorithm='auto', leaf_size=30, metric='minkowski',\n",
              "                     metric_params=None, n_jobs=None, n_neighbors=4, p=2,\n",
              "                     weights='uniform')"
            ]
          },
          "metadata": {
            "tags": []
          },
          "execution_count": 33
        }
      ]
    },
    {
      "cell_type": "code",
      "metadata": {
        "id": "VzG-Cu857TFJ",
        "outputId": "243601f6-c9eb-4450-cc51-b36256e73b64",
        "colab": {
          "base_uri": "https://localhost:8080/"
        }
      },
      "source": [
        "yhat = neigh.predict(X_test)\n",
        "yhat[0:5]"
      ],
      "execution_count": 34,
      "outputs": [
        {
          "output_type": "execute_result",
          "data": {
            "text/plain": [
              "array([1., 0., 1., 1., 1.])"
            ]
          },
          "metadata": {
            "tags": []
          },
          "execution_count": 34
        }
      ]
    },
    {
      "cell_type": "code",
      "metadata": {
        "id": "jEwHVp1l8FMv",
        "outputId": "ee6ada2f-235e-4b2e-d57f-346a422113d2",
        "colab": {
          "base_uri": "https://localhost:8080/"
        }
      },
      "source": [
        "from sklearn import metrics\n",
        "print(\"Train set Accuracy: \", metrics.accuracy_score(y_train, neigh.predict(X_train)))\n",
        "print(\"Test set Accuracy: \", metrics.accuracy_score(y_test, yhat))"
      ],
      "execution_count": 35,
      "outputs": [
        {
          "output_type": "stream",
          "text": [
            "Train set Accuracy:  0.9912057771426928\n",
            "Test set Accuracy:  0.9917205576316319\n"
          ],
          "name": "stdout"
        }
      ]
    },
    {
      "cell_type": "code",
      "metadata": {
        "id": "X0yAGj8ZBao4",
        "outputId": "3f5a77fa-004d-4cd6-dc98-41f87ee1d144",
        "colab": {
          "base_uri": "https://localhost:8080/"
        }
      },
      "source": [
        "Ks = 10\n",
        "mean_acc = np.zeros((Ks-1))\n",
        "std_acc = np.zeros((Ks-1))\n",
        "ConfustionMx = [];\n",
        "for n in range(1,Ks):\n",
        "    \n",
        "    #Train Model and Predict  \n",
        "    neigh = KNeighborsClassifier(n_neighbors = n).fit(X_train,y_train)\n",
        "    yhat=neigh.predict(X_test)\n",
        "    mean_acc[n-1] = metrics.accuracy_score(y_test, yhat)\n",
        "\n",
        "    \n",
        "    std_acc[n-1]=np.std(yhat==y_test)/np.sqrt(yhat.shape[0])\n",
        "\n",
        "mean_acc"
      ],
      "execution_count": 36,
      "outputs": [
        {
          "output_type": "execute_result",
          "data": {
            "text/plain": [
              "array([0.98975139, 0.98990803, 0.99189957, 0.99172056, 0.99315268,\n",
              "       0.99310792, 0.99301842, 0.99120589, 0.99290653])"
            ]
          },
          "metadata": {
            "tags": []
          },
          "execution_count": 36
        }
      ]
    },
    {
      "cell_type": "code",
      "metadata": {
        "id": "e-TggRQABbN6",
        "outputId": "e4e7d9c5-ede7-4be7-a9cf-27a5a3523da7",
        "colab": {
          "base_uri": "https://localhost:8080/",
          "height": 0
        }
      },
      "source": [
        "plt.plot(range(1,Ks),mean_acc,'g')\n",
        "plt.fill_between(range(1,Ks),mean_acc - 1 * std_acc,mean_acc + 1 * std_acc, alpha=0.10)\n",
        "plt.legend(('Accuracy ', '+/- 3xstd'))\n",
        "plt.ylabel('Accuracy ')\n",
        "plt.xlabel('Number of Nabors (K)')\n",
        "plt.tight_layout()\n",
        "plt.show()"
      ],
      "execution_count": 37,
      "outputs": [
        {
          "output_type": "display_data",
          "data": {
            "image/png": "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\n",
            "text/plain": [
              "<Figure size 432x288 with 1 Axes>"
            ]
          },
          "metadata": {
            "tags": [],
            "needs_background": "light"
          }
        }
      ]
    },
    {
      "cell_type": "code",
      "metadata": {
        "id": "cz6gSJ-cBiyS",
        "outputId": "17fda72e-5485-465b-a8c1-95deb6b8bc9c",
        "colab": {
          "base_uri": "https://localhost:8080/"
        }
      },
      "source": [
        "print( \"The best accuracy was with\", mean_acc.max(), \"with k=\", mean_acc.argmax()+1)"
      ],
      "execution_count": 38,
      "outputs": [
        {
          "output_type": "stream",
          "text": [
            "The best accuracy was with 0.993152677392647 with k= 5\n"
          ],
          "name": "stdout"
        }
      ]
    },
    {
      "cell_type": "code",
      "metadata": {
        "id": "EnQzB1Y7BmgT",
        "outputId": "f51c62aa-7540-464b-aee3-4635dff56372",
        "colab": {
          "base_uri": "https://localhost:8080/"
        }
      },
      "source": [
        "k = 5\n",
        "#Train Model and Predict  \n",
        "neigh = KNeighborsClassifier(n_neighbors = k).fit(X_train,y_train)\n",
        "neigh"
      ],
      "execution_count": 39,
      "outputs": [
        {
          "output_type": "execute_result",
          "data": {
            "text/plain": [
              "KNeighborsClassifier(algorithm='auto', leaf_size=30, metric='minkowski',\n",
              "                     metric_params=None, n_jobs=None, n_neighbors=5, p=2,\n",
              "                     weights='uniform')"
            ]
          },
          "metadata": {
            "tags": []
          },
          "execution_count": 39
        }
      ]
    },
    {
      "cell_type": "code",
      "metadata": {
        "id": "7hgH8X5iBoe2",
        "outputId": "bd93a0f9-83dd-4b2d-fe62-24341d680d8e",
        "colab": {
          "base_uri": "https://localhost:8080/"
        }
      },
      "source": [
        "yhat = neigh.predict(X_test)\n",
        "yhat[0:5]"
      ],
      "execution_count": 40,
      "outputs": [
        {
          "output_type": "execute_result",
          "data": {
            "text/plain": [
              "array([1., 0., 1., 1., 1.])"
            ]
          },
          "metadata": {
            "tags": []
          },
          "execution_count": 40
        }
      ]
    },
    {
      "cell_type": "code",
      "metadata": {
        "id": "fzAO85LgBrYt",
        "outputId": "a8b651f0-37dc-433f-ca5e-9325cb4fdbc3",
        "colab": {
          "base_uri": "https://localhost:8080/"
        }
      },
      "source": [
        "from sklearn import metrics\n",
        "print(\"Train set Accuracy: \", metrics.accuracy_score(y_train, neigh.predict(X_train)))\n",
        "print(\"Test set Accuracy: \", metrics.accuracy_score(y_test, yhat))"
      ],
      "execution_count": 41,
      "outputs": [
        {
          "output_type": "stream",
          "text": [
            "Train set Accuracy:  0.9925579967968697\n",
            "Test set Accuracy:  0.993152677392647\n"
          ],
          "name": "stdout"
        }
      ]
    },
    {
      "cell_type": "code",
      "metadata": {
        "id": "ZuP0A9uBBuEM",
        "outputId": "111f3576-ecfb-4719-ec9f-6c0238e9297d",
        "colab": {
          "base_uri": "https://localhost:8080/"
        }
      },
      "source": [
        "from sklearn.metrics import f1_score\n",
        "\n",
        "print(\"DT F1-score: %.2f\" % f1_score(y_test, yhat, average='weighted') )"
      ],
      "execution_count": 42,
      "outputs": [
        {
          "output_type": "stream",
          "text": [
            "DT F1-score: 0.99\n"
          ],
          "name": "stdout"
        }
      ]
    },
    {
      "cell_type": "markdown",
      "metadata": {
        "id": "LgNIgbuVBxdt"
      },
      "source": [
        "### Decision Tree"
      ]
    },
    {
      "cell_type": "code",
      "metadata": {
        "id": "FrNMV-9ZB0Cb",
        "outputId": "99d3bc64-ac93-48a3-905b-daa24f12b840",
        "colab": {
          "base_uri": "https://localhost:8080/"
        }
      },
      "source": [
        "from sklearn.tree import DecisionTreeClassifier\n",
        "DT_model = DecisionTreeClassifier(criterion=\"entropy\", max_depth = 5)\n",
        "DT_model.fit(X_train,y_train)\n",
        "DT_model"
      ],
      "execution_count": 43,
      "outputs": [
        {
          "output_type": "execute_result",
          "data": {
            "text/plain": [
              "DecisionTreeClassifier(ccp_alpha=0.0, class_weight=None, criterion='entropy',\n",
              "                       max_depth=5, max_features=None, max_leaf_nodes=None,\n",
              "                       min_impurity_decrease=0.0, min_impurity_split=None,\n",
              "                       min_samples_leaf=1, min_samples_split=2,\n",
              "                       min_weight_fraction_leaf=0.0, presort='deprecated',\n",
              "                       random_state=None, splitter='best')"
            ]
          },
          "metadata": {
            "tags": []
          },
          "execution_count": 43
        }
      ]
    },
    {
      "cell_type": "code",
      "metadata": {
        "id": "KlNbgBqYB4av",
        "outputId": "9fdedc42-7f34-46a7-e14b-05c5186835ec",
        "colab": {
          "base_uri": "https://localhost:8080/"
        }
      },
      "source": [
        "yhat = DT_model.predict(X_test)\n",
        "yhat"
      ],
      "execution_count": 44,
      "outputs": [
        {
          "output_type": "execute_result",
          "data": {
            "text/plain": [
              "array([1., 0., 1., ..., 2., 2., 0.])"
            ]
          },
          "metadata": {
            "tags": []
          },
          "execution_count": 44
        }
      ]
    },
    {
      "cell_type": "code",
      "metadata": {
        "id": "-BkSNfdGB7ZD",
        "outputId": "9fa29bee-4a51-4c37-d27a-c34a16acf647",
        "colab": {
          "base_uri": "https://localhost:8080/"
        }
      },
      "source": [
        "from sklearn import metrics\n",
        "import matplotlib.pyplot as plt\n",
        "print(\"DecisionTrees's Accuracy: \", metrics.accuracy_score(y_test, yhat))"
      ],
      "execution_count": 45,
      "outputs": [
        {
          "output_type": "stream",
          "text": [
            "DecisionTrees's Accuracy:  0.9931750542639128\n"
          ],
          "name": "stdout"
        }
      ]
    },
    {
      "cell_type": "code",
      "metadata": {
        "id": "qEDPR-mhB-NQ",
        "outputId": "b1ba6c35-3499-4cf8-c4dd-1f7d670cf05d",
        "colab": {
          "base_uri": "https://localhost:8080/"
        }
      },
      "source": [
        "from sklearn.metrics import f1_score\n",
        "\n",
        "print(\"DT F1-score: %.2f\" % f1_score(y_test, yhat, average='weighted') )"
      ],
      "execution_count": 46,
      "outputs": [
        {
          "output_type": "stream",
          "text": [
            "DT F1-score: 0.99\n"
          ],
          "name": "stdout"
        }
      ]
    },
    {
      "cell_type": "markdown",
      "metadata": {
        "id": "9gVw67cdB_jX"
      },
      "source": [
        "### Logistic Regression"
      ]
    },
    {
      "cell_type": "code",
      "metadata": {
        "id": "cq0G-ET-CDGP",
        "outputId": "27181f2a-c176-4991-f357-483e9be54235",
        "colab": {
          "base_uri": "https://localhost:8080/"
        }
      },
      "source": [
        "from sklearn.linear_model import LogisticRegression\n",
        "LR_model = LogisticRegression(C=0.01).fit(X_train,y_train)\n",
        "LR_model"
      ],
      "execution_count": 47,
      "outputs": [
        {
          "output_type": "execute_result",
          "data": {
            "text/plain": [
              "LogisticRegression(C=0.01, class_weight=None, dual=False, fit_intercept=True,\n",
              "                   intercept_scaling=1, l1_ratio=None, max_iter=100,\n",
              "                   multi_class='auto', n_jobs=None, penalty='l2',\n",
              "                   random_state=None, solver='lbfgs', tol=0.0001, verbose=0,\n",
              "                   warm_start=False)"
            ]
          },
          "metadata": {
            "tags": []
          },
          "execution_count": 47
        }
      ]
    },
    {
      "cell_type": "code",
      "metadata": {
        "id": "ajUpxdzKCFxv",
        "outputId": "f8eb37a2-4878-49b7-8dc3-f32f3d50aba5",
        "colab": {
          "base_uri": "https://localhost:8080/"
        }
      },
      "source": [
        "yhat = LR_model.predict(X_test)\n",
        "yhat"
      ],
      "execution_count": 48,
      "outputs": [
        {
          "output_type": "execute_result",
          "data": {
            "text/plain": [
              "array([1., 0., 1., ..., 2., 2., 0.])"
            ]
          },
          "metadata": {
            "tags": []
          },
          "execution_count": 48
        }
      ]
    },
    {
      "cell_type": "code",
      "metadata": {
        "id": "zB_yEy21CHa9",
        "outputId": "1bf06c53-2241-4c1c-8a2d-c614917fe2b2",
        "colab": {
          "base_uri": "https://localhost:8080/"
        }
      },
      "source": [
        "from sklearn.metrics import f1_score\n",
        "from sklearn.metrics import log_loss\n",
        "\n",
        "LR_yhat = LR_model.predict(X_test)\n",
        "LR_yhat_prob = LR_model.predict_proba(X_test)\n",
        "\n",
        "print(\"LR F1-score: %.2f\" % f1_score(y_test, LR_yhat, average='weighted'))\n",
        "print(\"LR LogLoss: %.2f\" % log_loss(y_test, LR_yhat_prob))"
      ],
      "execution_count": 49,
      "outputs": [
        {
          "output_type": "stream",
          "text": [
            "LR F1-score: 0.99\n",
            "LR LogLoss: 0.04\n"
          ],
          "name": "stdout"
        }
      ]
    },
    {
      "cell_type": "code",
      "metadata": {
        "id": "v7F3q9TgCLGr",
        "outputId": "bbb55044-a061-43b6-87d2-d37219527a5e",
        "colab": {
          "base_uri": "https://localhost:8080/"
        }
      },
      "source": [
        "from sklearn import metrics\n",
        "import matplotlib.pyplot as plt\n",
        "print(\"Logistic Regression Accuracy: \", metrics.accuracy_score(y_test, yhat))"
      ],
      "execution_count": 50,
      "outputs": [
        {
          "output_type": "stream",
          "text": [
            "Logistic Regression Accuracy:  0.990914990266061\n"
          ],
          "name": "stdout"
        }
      ]
    },
    {
      "cell_type": "markdown",
      "metadata": {
        "id": "6GW0Fht21iDp"
      },
      "source": [
        "## Results and Evaluations\n",
        "The final results of the model evaluations are summarized in the following table:\n",
        "\n",
        "<table size = 30 >\n",
        "<tr>\n",
        "<th>\n",
        "ML Model\n",
        "</td>\n",
        "<th>\n",
        "F1-Score</td>\n",
        "<th>\n",
        "Accuracy</td>\n",
        "</tr><tr>\n",
        "<th>\n",
        "KNN</th>\n",
        "<td>\n",
        "0.99</td>\n",
        "<td>\n",
        "0.993</td>\n",
        "</tr>\n",
        "<tr>\n",
        "<th>\n",
        "Decision tree</th>\n",
        "<td>\n",
        "0.99</td>\n",
        "<td>\n",
        "0.993</td>\n",
        "</tr>\n",
        "<th>\n",
        "Logistic Regression</th>\n",
        "<td>\n",
        "0.99</td>\n",
        "<td>\n",
        "0.990</td>\n",
        "</tr>"
      ]
    },
    {
      "cell_type": "code",
      "metadata": {
        "id": "oy2LCRyQ2EPw"
      },
      "source": [
        ""
      ],
      "execution_count": 50,
      "outputs": []
    }
  ]
}
